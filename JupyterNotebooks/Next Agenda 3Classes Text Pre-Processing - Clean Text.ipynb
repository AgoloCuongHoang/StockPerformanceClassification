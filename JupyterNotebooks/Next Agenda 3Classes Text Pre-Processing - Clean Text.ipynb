{
 "cells": [
  {
   "cell_type": "markdown",
   "metadata": {},
   "source": [
    "## 2) Text Cleaning"
   ]
  },
  {
   "cell_type": "code",
   "execution_count": 17,
   "metadata": {},
   "outputs": [
    {
     "name": "stdout",
     "output_type": "stream",
     "text": [
      "3.5.2 |Continuum Analytics, Inc.| (default, Jul  5 2016, 11:41:13) [MSC v.1900 64 bit (AMD64)]\n"
     ]
    }
   ],
   "source": [
    "import sys\n",
    "print(sys.version)"
   ]
  },
  {
   "cell_type": "code",
   "execution_count": 18,
   "metadata": {},
   "outputs": [],
   "source": [
    "# Use AzureML's data collector to log various metrics!\n",
    "#from azureml.logging import current_scriptrun\n",
    "#logger = current_scriptrun()\n",
    "\n",
    "import string, re\n",
    "import pandas as pd\n",
    "from nltk.corpus import stopwords\n",
    "from gensim import corpora, models, similarities\n",
    "import azureml\n",
    "from __future__ import division\n",
    "import numpy as np\n",
    "import nltk\n",
    "from nltk.corpus import stopwords\n",
    "from azure.storage.blob import BlockBlobService\n",
    "\n",
    "# import libraries\n",
    "from __future__ import print_function\n",
    "import numpy as np\n",
    "from six.moves import zip\n",
    "import json\n",
    "import warnings\n",
    "import pandas as pd\n",
    "from pandas import DataFrame   \n",
    "import pickle\n",
    "import re\n",
    "import sys \n",
    "import azureml\n",
    "import string\n",
    "from scipy import stats\n",
    "import pip\n",
    "import keras\n",
    "from keras.preprocessing.sequence import pad_sequences\n",
    "from keras.utils.np_utils import to_categorical\n",
    "from keras.preprocessing.text import Tokenizer     \n",
    "from keras.preprocessing import sequence\n",
    "import os\n",
    "import tempfile  \n",
    "import logging\n",
    "import gensim\n",
    "from gensim.models import Phrases, phrases\n",
    "from gensim.models.phrases import Phraser\n",
    "from gensim.models import Word2Vec as wv\n",
    "import nltk\n",
    "from nltk.corpus import stopwords\n",
    "from gensim import corpora, models, similarities\n",
    "from IPython.display import SVG\n",
    "import cloudpickle\n",
    "import csv\n",
    "import mkl\n",
    "import matplotlib.pyplot as plt\n",
    "import h5py\n",
    "from keras.models import load_model\n",
    "import re\n",
    "import io\n",
    "from os.path import dirname, join\n",
    "import regex"
   ]
  },
  {
   "cell_type": "markdown",
   "metadata": {},
   "source": [
    "Imprt source text and write to a pandas dataframe"
   ]
  },
  {
   "cell_type": "code",
   "execution_count": 19,
   "metadata": {},
   "outputs": [
    {
     "data": {
      "text/plain": [
       "'C:\\\\Users\\\\pattyry\\\\Documents\\\\AzureML\\\\NextAgenda_CodeStory\\\\NextAgenda_CodeStory'"
      ]
     },
     "execution_count": 19,
     "metadata": {},
     "output_type": "execute_result"
    }
   ],
   "source": [
    "import os\n",
    "os.getcwd()"
   ]
  },
  {
   "cell_type": "code",
   "execution_count": 20,
   "metadata": {},
   "outputs": [
    {
     "name": "stdout",
     "output_type": "stream",
     "text": [
      "Data unpickled\n",
      "(996, 3)\n"
     ]
    },
    {
     "data": {
      "text/html": [
       "<div>\n",
       "<style>\n",
       "    .dataframe thead tr:only-child th {\n",
       "        text-align: right;\n",
       "    }\n",
       "\n",
       "    .dataframe thead th {\n",
       "        text-align: left;\n",
       "    }\n",
       "\n",
       "    .dataframe tbody tr th {\n",
       "        vertical-align: top;\n",
       "    }\n",
       "</style>\n",
       "<table border=\"1\" class=\"dataframe\">\n",
       "  <thead>\n",
       "    <tr style=\"text-align: right;\">\n",
       "      <th></th>\n",
       "      <th>fulltext</th>\n",
       "      <th>ReturnBin_4Weeks</th>\n",
       "      <th>ReturnBin_26Weeks</th>\n",
       "    </tr>\n",
       "  </thead>\n",
       "  <tbody>\n",
       "    <tr>\n",
       "      <th>131</th>\n",
       "      <td>ACAD.   . Overview We are a biopharmaceutical ...</td>\n",
       "      <td>0</td>\n",
       "      <td>0</td>\n",
       "    </tr>\n",
       "    <tr>\n",
       "      <th>133</th>\n",
       "      <td>ACAD.   . Company Overview We are a biopharmac...</td>\n",
       "      <td>2</td>\n",
       "      <td>2</td>\n",
       "    </tr>\n",
       "  </tbody>\n",
       "</table>\n",
       "</div>"
      ],
      "text/plain": [
       "                                              fulltext ReturnBin_4Weeks  \\\n",
       "131  ACAD.   . Overview We are a biopharmaceutical ...                0   \n",
       "133  ACAD.   . Company Overview We are a biopharmac...                2   \n",
       "\n",
       "    ReturnBin_26Weeks  \n",
       "131                 0  \n",
       "133                 2  "
      ]
     },
     "execution_count": 20,
     "metadata": {},
     "output_type": "execute_result"
    }
   ],
   "source": [
    "import pickle\n",
    "with open('biotechsource.pkl', 'rb') as f:\n",
    "    data = pickle.load(f)\n",
    "    print(\"Data unpickled\")\n",
    "    import pandas as pd\n",
    "biotechdata = pd.DataFrame(data)\n",
    "\n",
    "print(biotechdata.shape)\n",
    "biotechdata.head(2)\n"
   ]
  },
  {
   "cell_type": "code",
   "execution_count": 21,
   "metadata": {},
   "outputs": [
    {
     "name": "stdout",
     "output_type": "stream",
     "text": [
      "Data unpickled\n",
      "(32233, 4)\n"
     ]
    },
    {
     "data": {
      "text/html": [
       "<div>\n",
       "<style>\n",
       "    .dataframe thead tr:only-child th {\n",
       "        text-align: right;\n",
       "    }\n",
       "\n",
       "    .dataframe thead th {\n",
       "        text-align: left;\n",
       "    }\n",
       "\n",
       "    .dataframe tbody tr th {\n",
       "        vertical-align: top;\n",
       "    }\n",
       "</style>\n",
       "<table border=\"1\" class=\"dataframe\">\n",
       "  <thead>\n",
       "    <tr style=\"text-align: right;\">\n",
       "      <th></th>\n",
       "      <th>Category</th>\n",
       "      <th>fulltext</th>\n",
       "      <th>ReturnBin_4Weeks</th>\n",
       "      <th>ReturnBin_26Weeks</th>\n",
       "    </tr>\n",
       "  </thead>\n",
       "  <tbody>\n",
       "    <tr>\n",
       "      <th>1</th>\n",
       "      <td>Major Airlines</td>\n",
       "      <td>AAL.   OverviewAmerican Airlines Group Inc. (A...</td>\n",
       "      <td>0</td>\n",
       "      <td>0</td>\n",
       "    </tr>\n",
       "    <tr>\n",
       "      <th>2</th>\n",
       "      <td>Major Airlines</td>\n",
       "      <td>AAL.   Chapter 11 ProceedingsOn November 29, 2...</td>\n",
       "      <td>1</td>\n",
       "      <td>1</td>\n",
       "    </tr>\n",
       "  </tbody>\n",
       "</table>\n",
       "</div>"
      ],
      "text/plain": [
       "         Category                                           fulltext  \\\n",
       "1  Major Airlines  AAL.   OverviewAmerican Airlines Group Inc. (A...   \n",
       "2  Major Airlines  AAL.   Chapter 11 ProceedingsOn November 29, 2...   \n",
       "\n",
       "  ReturnBin_4Weeks ReturnBin_26Weeks  \n",
       "1                0                 0  \n",
       "2                1                 1  "
      ]
     },
     "execution_count": 21,
     "metadata": {},
     "output_type": "execute_result"
    }
   ],
   "source": [
    "import pickle\n",
    "with open('allindustriessource.pkl', 'rb') as f:\n",
    "    data = pickle.load(f)\n",
    "    print(\"Data unpickled\")\n",
    "    import pandas as pd\n",
    "allindustriesdata = pd.DataFrame(data)\n",
    "\n",
    "print(allindustriesdata.shape)\n",
    "allindustriesdata.head(2)"
   ]
  },
  {
   "cell_type": "markdown",
   "metadata": {},
   "source": [
    "Review data"
   ]
  },
  {
   "cell_type": "code",
   "execution_count": 22,
   "metadata": {},
   "outputs": [
    {
     "data": {
      "image/png": "[encoded data removed]",
      "text/plain": [
       "<matplotlib.figure.Figure at 0x21b6dce2780>"
      ]
     },
     "metadata": {},
     "output_type": "display_data"
    },
    {
     "data": {
      "text/plain": [
       "<ggplot: (-9223371892052925345)>"
      ]
     },
     "execution_count": 22,
     "metadata": {},
     "output_type": "execute_result"
    }
   ],
   "source": [
    "import ggplot\n",
    "from ggplot import *\n",
    "ggplot(biotechdata, aes(x='ReturnBin_4Weeks')) + \\\n",
    "    geom_histogram() "
   ]
  },
  {
   "cell_type": "code",
   "execution_count": 23,
   "metadata": {},
   "outputs": [],
   "source": [
    "biotechdata.head(3)\n",
    "data = biotechdata"
   ]
  },
  {
   "cell_type": "markdown",
   "metadata": {},
   "source": [
    "Discard data not of interest"
   ]
  },
  {
   "cell_type": "code",
   "execution_count": 24,
   "metadata": {},
   "outputs": [
    {
     "name": "stdout",
     "output_type": "stream",
     "text": [
      "(996, 2)\n",
      "                                              fulltext ReturnBin_4Weeks\n",
      "131  ACAD.   . Overview We are a biopharmaceutical ...                0\n",
      "133  ACAD.   . Company Overview We are a biopharmac...                2\n"
     ]
    }
   ],
   "source": [
    "data1=data.drop(['ReturnBin_26Weeks'], axis=1)\n",
    "print(data1.shape)\n",
    "print(data1.head(2))\n",
    "#print(data1.dtypes)\n",
    "thedata = data1\n",
    "thedata['fulltext'] = thedata['fulltext'].str.encode('utf-8')\n",
    "thedata['fulltext'] = thedata['fulltext'].str.lower()"
   ]
  },
  {
   "cell_type": "markdown",
   "metadata": {},
   "source": [
    "Clean the text"
   ]
  },
  {
   "cell_type": "code",
   "execution_count": 25,
   "metadata": {},
   "outputs": [],
   "source": [
    "\n",
    "##########################################\n",
    "# clean up the text in the data with regex\n",
    "##########################################\n",
    "\n",
    "\n",
    "def clean_text(row):\n",
    "    text = str(row['fulltext'])\n",
    "\n",
    "    # Remove newline characters\n",
    "    cleantext = text.replace('\\r\\n', ' ')\n",
    "\n",
    "    # Convert HTML punctuation chaaracters\n",
    "    cleantext = cleantext.replace(' www.', ' ')   \n",
    "    cleantext = cleantext.replace('.com ', ' ')    \n",
    "    cleantext = cleantext.replace('.', ' ')\n",
    "    cleantext = cleantext.replace(',', ' ')\n",
    "    cleantext = cleantext.replace('!', ' ')\n",
    "    cleantext = cleantext.replace('$;', ' ')\n",
    "    cleantext = cleantext.replace(';', ' ')\n",
    "    cleantext = cleantext.replace(')', ' ')\n",
    "    cleantext = cleantext.replace('(', ' ')   \n",
    "    cleantext = cleantext.replace('>', ' ')  \n",
    "    cleantext = cleantext.replace('<', ' ')  \n",
    "    cleantext = cleantext.replace('-', ' ')  #take away hyphen and collapse hyphenated words\n",
    "    cleantext = cleantext.replace(' the ', ' ')  \n",
    "    cleantext = cleantext.replace(' of ', ' ')   \n",
    "    cleantext = cleantext.replace(' in ', ' ')  \n",
    "    cleantext = cleantext.replace(' and ', ' ')  \n",
    "    cleantext = cleantext.replace(' by ', ' ')  \n",
    "    cleantext = cleantext.replace(' to ', ' ')  \n",
    "    cleantext = cleantext.replace(' at ', ' ')  \n",
    "    cleantext = cleantext.replace(' on ', ' ') \n",
    "    cleantext = cleantext.replace(' for ', ' ')  \n",
    "#    cleantext = cleantext.replace(' be ', ' ')   \n",
    "    cleantext = cleantext.replace(' is ', ' ')    \n",
    "    cleantext = cleantext.replace(' or ', ' ')   \n",
    "#    cleantext = cleantext.replace(' we ', ' ')   \n",
    "#    cleantext = cleantext.replace(' that ', ' ')   \n",
    "#    cleantext = cleantext.replace(' our ', ' ')   \n",
    "    cleantext = cleantext.replace(' as ', ' ')        \n",
    "    cleantext = cleantext.replace(' from ', ' ')   \n",
    "#    cleantext = cleantext.replace(' are ', ' ')   \n",
    "    cleantext = cleantext.replace(' with ', ' ')   \n",
    "#    cleantext = cleantext.replace(' us ', ' ')   \n",
    "#    cleantext = cleantext.replace(' was ', ' ')        \n",
    "    cleantext = cleantext.replace(' this ', ' ')   \n",
    "    cleantext = cleantext.replace(' an ', ' ')        \n",
    "    cleantext = cleantext.replace(' by ', ' ')   \n",
    "    cleantext = cleantext.replace(' sr ', ' ')      \n",
    "    cleantext = cleantext.replace(' it ', ' ')  \n",
    "    cleantext = cleantext.replace(' s ', ' ')   \n",
    "\n",
    "\n",
    "    #remove non alpha characters and specific noise\n",
    "    cleantext = re.sub(r'\\d+', ' ',cleantext)\n",
    "    cleantext = re.sub(r'^b',' ',cleantext)\n",
    "    cleantext = re.sub(r'[^\\w]',' ',cleantext)\n",
    "    cleantext = cleantext.replace('xc xs', ' ')  \n",
    "    cleantext = cleantext.replace('xe xs', ' ')  \n",
    "    cleantext = cleantext.replace('xc xS', ' ')  \n",
    "    cleantext = cleantext.replace('xe xS', ' ')  \n",
    "    cleantext = cleantext.replace('xc xa', ' ')  \n",
    "    cleantext = cleantext.replace('xe xa', ' ')  \n",
    "    cleantext = cleantext.replace(' xc xc x', ' ')  \n",
    "    cleantext = cleantext.replace(' xc ', ' ')  \n",
    "    cleantext = cleantext.replace(' xe ', ' ')  \n",
    "    cleantext = cleantext.replace(' xs ', ' ')  \n",
    "    cleantext = cleantext.replace(' xa ', ' ')  \n",
    "    cleantext = cleantext.replace(' ct ', ' ')  \n",
    "    cleantext = cleantext.replace(' x ', ' ')  \n",
    "    cleantext = cleantext.replace(' non exclusive ', ' non-exclusive ') \n",
    "    cleantext = cleantext.replace(' u ', ' ')   \n",
    "    cleantext = cleantext.replace(' s ', ' ')  \n",
    "    \n",
    "    #remove specific noise\n",
    "    cleantext = cleantext.translate(str.maketrans({'‘':' ','’':' '}))\n",
    "    cleantext = cleantext.translate(str.maketrans({',':' ',',':' '}))\n",
    "    cleantext = cleantext.translate(str.maketrans({'[':' ',']':' '}))\n",
    "    cleantext = cleantext.translate(str.maketrans({'\"':' ','%':' '}))\n",
    "    cleantext = cleantext.translate(str.maketrans({'^':' ','*':' '}))\n",
    "\n",
    "    #remove punctuation\n",
    "    punctpattern = re.compile('[%s]' % re.escape(string.punctuation))\n",
    "    cleanttext = re.sub(punctpattern,'', cleantext)\n",
    "\n",
    "    #remove single letter word\n",
    "    cleantext = re.sub('(\\\\b[A-Za-z] \\\\b|\\\\b [A-Za-z]\\\\b)', '', cleantext) \n",
    "\n",
    "    # Remove extra spaces\n",
    "    cleantext = re.sub('\\s+', ' ', cleantext).strip()\n",
    "\n",
    "    return cleantext\n",
    "\n"
   ]
  },
  {
   "cell_type": "code",
   "execution_count": 26,
   "metadata": {},
   "outputs": [
    {
     "data": {
      "text/html": [
       "<div>\n",
       "<style>\n",
       "    .dataframe thead tr:only-child th {\n",
       "        text-align: right;\n",
       "    }\n",
       "\n",
       "    .dataframe thead th {\n",
       "        text-align: left;\n",
       "    }\n",
       "\n",
       "    .dataframe tbody tr th {\n",
       "        vertical-align: top;\n",
       "    }\n",
       "</style>\n",
       "<table border=\"1\" class=\"dataframe\">\n",
       "  <thead>\n",
       "    <tr style=\"text-align: right;\">\n",
       "      <th></th>\n",
       "      <th>Return3Bin_4Weeks</th>\n",
       "      <th>fulltext</th>\n",
       "    </tr>\n",
       "  </thead>\n",
       "  <tbody>\n",
       "    <tr>\n",
       "      <th>131</th>\n",
       "      <td>0</td>\n",
       "      <td>acad overview we are biopharmaceutical company...</td>\n",
       "    </tr>\n",
       "    <tr>\n",
       "      <th>133</th>\n",
       "      <td>2</td>\n",
       "      <td>acad company overview we are biopharmaceutical...</td>\n",
       "    </tr>\n",
       "    <tr>\n",
       "      <th>134</th>\n",
       "      <td>0</td>\n",
       "      <td>acad company overview we are biopharmaceutical...</td>\n",
       "    </tr>\n",
       "    <tr>\n",
       "      <th>135</th>\n",
       "      <td>0</td>\n",
       "      <td>acad company overview we are biopharmaceutical...</td>\n",
       "    </tr>\n",
       "    <tr>\n",
       "      <th>136</th>\n",
       "      <td>2</td>\n",
       "      <td>acad overview we are biopharmaceutical company...</td>\n",
       "    </tr>\n",
       "    <tr>\n",
       "      <th>137</th>\n",
       "      <td>2</td>\n",
       "      <td>acad overview we are biopharmaceutical company...</td>\n",
       "    </tr>\n",
       "    <tr>\n",
       "      <th>138</th>\n",
       "      <td>0</td>\n",
       "      <td>acad overview we are biopharmaceutical company...</td>\n",
       "    </tr>\n",
       "    <tr>\n",
       "      <th>139</th>\n",
       "      <td>2</td>\n",
       "      <td>acad overview we are biopharmaceutical company...</td>\n",
       "    </tr>\n",
       "  </tbody>\n",
       "</table>\n",
       "</div>"
      ],
      "text/plain": [
       "    Return3Bin_4Weeks                                           fulltext\n",
       "131                 0  acad overview we are biopharmaceutical company...\n",
       "133                 2  acad company overview we are biopharmaceutical...\n",
       "134                 0  acad company overview we are biopharmaceutical...\n",
       "135                 0  acad company overview we are biopharmaceutical...\n",
       "136                 2  acad overview we are biopharmaceutical company...\n",
       "137                 2  acad overview we are biopharmaceutical company...\n",
       "138                 0  acad overview we are biopharmaceutical company...\n",
       "139                 2  acad overview we are biopharmaceutical company..."
      ]
     },
     "execution_count": 26,
     "metadata": {},
     "output_type": "execute_result"
    }
   ],
   "source": [
    "#apply text fixes to the input text column\n",
    "thedata['CleanText'] = thedata.apply(clean_text, axis=1)\n",
    "justcleandocs=thedata.drop(['fulltext'], axis=1)\n",
    "\n",
    "\n",
    "justcleandocs.rename(columns={'ReturnBin_4Weeks':'Return3Bin_4Weeks'}, inplace=True)\n",
    "justcleandocs.rename(columns={'CleanText':'fulltext'}, inplace=True)\n",
    "justcleandocs.head(8)"
   ]
  },
  {
   "cell_type": "code",
   "execution_count": 27,
   "metadata": {},
   "outputs": [],
   "source": [
    "with open('biotechcleaned.pkl', 'wb') as f:\n",
    "    pickle.dump(justcleandocs, f)\n",
    "#df = pd.read_pickle(file_name)"
   ]
  },
  {
   "cell_type": "code",
   "execution_count": 28,
   "metadata": {},
   "outputs": [],
   "source": [
    "#save a cleaned copy to inspect\n",
    "justcleandocs.to_csv('cleandata.tsv', sep='\\t', encoding='utf-8')\n"
   ]
  },
  {
   "cell_type": "code",
   "execution_count": 29,
   "metadata": {},
   "outputs": [],
   "source": [
    "documents = justcleandocs['fulltext'].values"
   ]
  },
  {
   "cell_type": "code",
   "execution_count": 30,
   "metadata": {},
   "outputs": [
    {
     "data": {
      "text/plain": [
       "996"
      ]
     },
     "execution_count": 30,
     "metadata": {},
     "output_type": "execute_result"
    }
   ],
   "source": [
    "len(documents)"
   ]
  },
  {
   "cell_type": "code",
   "execution_count": 31,
   "metadata": {},
   "outputs": [
    {
     "data": {
      "text/plain": [
       "'acad overview we are biopharmaceutical company focused development commercialization small molecule drugs treatment central nervous system disorders our pipeline consists four product candidates including pimavanserin which phase iii development treatment parkinson disease psychosis we hold worldwide commercialization rights pimavanserin addition we have product candidate phase ii development chronic pain product candidate phase development glaucoma both collaboration allergan inc well program ind track development collaboration meiji seika kaisha ltd all product candidates our pipeline emanate discoveries made using our proprietary drug discovery platform product candidates our pipeline address diseases that are not well served currently available therapies that represent large potential commercial opportunities we believe our product candidates offer innovative therapeutic approaches may provide significant advantages relative current therapies our most advanced product candidates are follows pimavanserin pimavanserin new chemical entity that we discovered have advanced phase iii development potential first class treatment parkinson disease psychosis parkinson disease psychosis debilitating psychiatric disorder that occurs up percent patients parkinson disease associated increased caregiver burden nursing home placement increased mortality food drug administration fda has not approved any drug treat parkinson disease psychosis pimavanserin provides innovative approach treating disorder selectively blocking key serotonin table contents receptor that plays important role psychosis we believe pimavanserin may effectively treat parkinson disease psychosis without compromising motor control thereby significantly improving quality life patients parkinson disease we are currently conducting several studies our phase iii program pimavanserin parkinson disease psychosis including phase iii efficacy tolerability safety trial open label safety extension studies we also believe that pimavanserin has potential address range additional neurological psychiatric disorders including alzheimer disease psychosis schizophrenia which are underserved currently marketed antipsychotic drugs we have completed phase ii trial pimavanserin co therapy schizophrenia have established plans future phase ii feasibility study explore use pimavanserin treatment alzheimer disease psychosis agn xx yy collaboration allergan we have discovered are developing new class small molecule product candidates treatment chronic pain chronic pain common form persistent pain that may be related number medical conditions often resistant treatment allergan has conducted several phase ii trials program has reported preliminary results its phase ii program including positive proof concept human visceral pain trial efficacy signals two chronic pain trials areas fibromyalgia irritable bowel syndrome allergan has announced that seeking partner further development program commercialization areas predominantly served general practitioners ac we have discovered collaboration allergan are developing small molecule product candidate treatment glaucoma glaucoma chronic eye disease second leading cause blindness world ac has demonstrated promising preclinical profile including robust efficacy long duration action allergan conducting phase clinical trials glaucoma patients ac am we have discovered collaboration meiji seika are ind track development am small molecule product candidate treatment schizophrenia currently prescribed treatments do not effectively address may exacerbate cognitive disturbances associated schizophrenia we believe that am provides potential new class pro cognitive antipsychotic drugs we meiji seika are currently conducting required development studies preparation potential future clinical trials am addition our four most advanced product candidates development we have used our proprietary drug discovery platform discover additional product candidates that we may elect develop future partnerships independently we have demonstrated that our platform can be used rapidly discover new compounds that may serve potential treatments significant unmet medical needs currently we have focused our resources our most advanced product candidates including pimavanserin we have assembled management team significant industry experience lead discovery development our product candidates we complement our management team group scientific clinical advisors that includes recognized experts fields parkinson disease psychosis schizophrenia other central nervous system disorders acadia sat are our registered trademarks our logos trademarks are property acadia pharmaceuticals inc all other brand names trademarks appearing report are property their respective holders use display us other parties trademarks trade dress products report not intended does not imply relationship endorsements sponsorship us trademark trade dress owners we maintain website acadia pharm com which we regularly post copies our press releases well additional information about us our filings securities exchange commission sec are available free charge through our website soon reasonably practicable after being electronically filed table contents furnished sec interested persons can subscribe our website email alerts that are sent automatically when we issue press releases file our reports sec post certain other information our website information contained our website does not constitute part report our other filings sec our strategy our goal become leader discovery development commercialization novel small molecule drugs treatment central nervous system disorders other areas unmet medical need key elements our strategy are to develop commercialize our lead product candidate pimavanserin parkinson disease psychosis we have selected parkinson disease psychosis our lead indication pimavanserin we are currently focused advancing our phase iii program indication we plan complete development program collaboration partners independently if successful we intend participate commercialization pimavanserin parkinson disease psychosis united states establishing small specialty sales force that calls focused group physicians we plan commercialize pimavanserin markets outside united states establishing one more strategic alliances future maximize commercial potential pimavanserin expanding additional neurological psychiatric disorders we intend use our phase iii parkinson disease psychosis program foundation develop commercialize pimavanserin additional neurological psychiatric indications that also are underserved currently available antipsychotics represent large unmet medical needs may include development pimavanserin treatment alzheimer disease psychosis co therapy schizophrenia therapeutic areas that involve extensive development program address larger specialty primary care markets we intend complete late stage development commercialization through collaboration partners we may elect retain selected commercialization rights areas where we feel pimavanserin can be sold specialty sales force that calls focused group physicians continue develop our other product candidates treatment central nervous system related disorders we plan continue developing our other product candidates including our collaborative clinical programs allergan our ind track development program meiji seika while our resources are currently focused our four most advanced product candidates we may choose pursue additional product candidates future these may be directed central nervous system disorders may be developed partnerships independently we believe that diversified pipeline will mitigate risks inherent drug development increase likelihood commercial success opportunistically license acquire complementary product candidates although all product candidates currently our pipeline emanate discoveries made using our proprietary platform future we may elect license acquire clinical stage product candidates products augment our pipeline leverage any sales force that we may establish future disease market overview our product candidates address diseases that are not well served currently available therapies that represent large potential commercial market opportunities background information diseases related commercial markets that may be addressed our product candidates set forth below parkinson disease psychosis parkinson disease chronic progressive neurological disorder that results degeneration neurons region brain that controls movement degeneration creates shortage important table contents brain signaling chemical neurotransmitter known dopamine thereby rendering patients unable initiate their movements normal manner parkinson disease characterized well known motor symptoms including tremors limb stiffness slowness movements difficulties posture balance well non motor symptoms which may include psychosis severity parkinson disease symptoms tends worsen over time according national parkinson foundation over one million people united states four six million people worldwide suffer disease parkinson disease more prevalent people over years age incidence disease expected increase average age population increases parkinson disease patients are currently treated dopamine replacement therapies such levodopa commonly referred dopa which metabolized dopamine dopamine agonists which are molecules that mimic action dopamine studies have suggested that up percent patients parkinson disease will develop psychotic symptoms commonly consisting visual hallucinations delusions development psychosis patients parkinson disease often disrupts their ability perform many activities daily living that keeps them independent active deeply affects their quality life result parkinson disease psychosis associated increased caregiver burden nursing home placement increased mortality fda has not approved any therapy parkinson disease psychosis physicians may attempt address disorder initially decreasing dose dopamine replacement drugs which are administered manage motor symptoms parkinson disease however approach generally not effective alleviating psychotic symptoms most patients often associated significant worsening motor function these patients despite substantial limitations currently marketed antipsychotic drugs including seroquel are used off label treat patients parkinson disease psychosis because antipsychotic drugs block dopamine receptors thereby may counteract dopamine therapy used manage motor symptoms these drugs are generally not well tolerated patients parkinson disease doses required achieve antipsychotic effects current antipsychotic drugs also are associated number side effects which can be problematic elderly patients parkinson disease addition antipsychotic drugs have black box warning use elderly patients dementia related psychosis due increased mortality morbidity only current antipsychotic drug that has demonstrated efficacy reducing psychosis patients parkinson disease without further impairing motor function low dose treatment generic drug clozapine studies suggest that unique clinical utility clozapine arises its potent blocking key serotonin receptor protein that responds neurotransmitter serotonin known ht receptor use low dose clozapine has been approved europe but not united states treatment psychotic disorders parkinson disease however patients being treated clozapine require frequent blood monitoring because clozapine treatment associated occurrence rare blood disorder currently there large unmet medical need new therapies that will effectively treat psychosis patients parkinson disease without unwanted side effects including impairment motor function schizophrenia schizophrenia chronic debilitating mental illness characterized disturbances thinking emotional reaction behavior these disturbances may include positive symptoms such hallucinations delusions range negative symptoms including loss interest emotional withdrawal cognitive disturbances schizophrenia associated persistent impairment patient social functioning productivity cognitive disturbances often prevent patients schizophrenia readjusting society result patients schizophrenia are normally required be under medical care their entire lives according national institute mental health approximately one percent population suffers disease worldwide sales antipsychotic drugs used treat schizophrenia other psychiatric conditions exceeded billion these drugs have been increasingly used physicians table contents address range disorders addition schizophrenia including bipolar disorder variety psychoses related conditions elderly patients despite their commercial success current antipsychotic drugs have substantial limitations including inadequate efficacy severe side effects first generation typical antipsychotics that were introduced late block dopamine receptors while typical antipsychotics are effective against positive symptoms schizophrenia many patients these drugs often induce disabling motor disturbances they fail address worsen most negative symptoms cognitive disturbances associated schizophrenia most schizophrenia patients united states today are treated second generation atypical antipsychotics which induce fewer motor disturbances than typical antipsychotics but still fail address most negative symptoms schizophrenia addition currently prescribed treatments do not effectively address may exacerbate cognitive disturbances associated schizophrenia believed that efficacy atypical antipsychotics due their interactions dopamine ht receptors side effects induced atypical agents may include weight gain non insulin dependent type ii diabetes cardiovascular side effects motor disturbances we believe that these side effects arise either non essential receptor interactions excessive dopamine blockade limitations currently available antipsychotics result poor patient compliance study conducted national institute mental health which was published new england journal medicine september found that percent patients taking typical atypical antipsychotics discontinued treatment within months because side effects lack efficacy we believe there large unmet medical need new therapies that have improved side effect efficacy profile alzheimer disease psychosis alzheimer disease progressive neurodegenerative disorder that slowly destroys memory thinking skills eventually even ability carry out simple tasks its symptoms include cognitive dysfunction memory abnormalities progressive impairment activities daily living host behavioral neuropsychiatric symptoms alzheimer disease primarily affects older people most cases symptoms first appear after age alzheimer disease gets worse over time fatal according alzheimer association million people unites states are living alzheimer disease while diagnostic criteria alzheimer disease mostly focus related cognitive deficits often behavioral psychiatric symptoms that are most troublesome caregivers lead poor quality life patients these symptoms include agitation aggressive behaviors psychosis studies have suggested that approximately percent alzheimer disease patients may develop psychosis commonly consisting hallucinations delusions diagnosis alzheimer disease psychosis associated more rapid cognitive functional decline institutionalization there no proven safe effective therapy alzheimer disease psychosis symptoms progress become more severe physicians often resort off label use antipsychotic medications these patients current antipsychotic drugs are associated number side effects which can be problematic elderly patients alzheimer disease addition antipsychotic drugs may exacerbate cognitive disturbances associated alzheimer disease current antipsychotic drugs also have black box warning use elderly patients dementia related psychosis due increased mortality morbidity there large unmet medical need safe effective therapy treat psychosis patients alzheimer disease chronic pain chronic pain common form pain that persists progresses over long period time contrast acute pain that usually arises suddenly response identifiable injury transient chronic pain persists table contents over time often resistant medical treatments chronic pain may be related number different medical conditions including diabetes arthritis migraine fibromyalgia irritable bowel syndrome cancer shingles previous trauma injury hypersensitivity common feature many chronic pain disorders including fibromyalgia irritable bowel syndrome fibromyalgia characterized chronic widespread muscle pain stiffness tenderness muscles tendons joints without detectable inflammation also often associated fatigue restless sleep awakening tired anxiety depression disturbances bowel function fibromyalgia affects estimated three six million people united states predominately women between ages irritable bowel syndrome one most common ailments intestines affects estimated percent population there are variety drugs used treat patients chronic pain including anticonvulsants selective serotonin norepinephrine reuptake inhibitors snris tricyclic antidepressants opioid painkillers non steroidal anti inflammatory agents currently leading drugs include lyrica anticonvulsant approved postherpetic neuralgia diabetic neuropathic pain fibromyalgia cymbalta snri indicated treatment diabetic peripheral neuropathic pain fibromyalgia major depressive disorder lyrica cymbalta had worldwide sales billion billion respectively lyrica successor neurontin which was first product be approved fda treatment neuropathic pain now generic only portion patients neuropathic pain fibromyalgia get meaningful relief anticonvulsants antidepressants there are no drugs currently indicated treatment irritable bowel syndrome other conditions accompanied enhanced internal sensation pain united states side effects anticonvulsants may include dizziness somnolence dry mouth blurred vision weight gain concentration attention difficulties side effects snris may include nausea vomiting dizziness sleep disturbances constipation dry mouth anxiety abnormal vision headache sexual dysfunction tricyclic antidepressants have long been used treat depression these agents may have pain relieving effects some patients common side effects these agents include dry mouth blurred vision constipation difficulty urination impaired thinking tiredness drugs such opioid painkillers non steroidal anti inflammatory agents that are effective treating inflammatory acute pain usually are not effective treating chronic pain opioid painkillers also have significant adverse side effects that limit their usefulness prolonged use these drugs can lead need increasing dosage potentially addiction due these shortcomings current therapies we believe that there large unmet medical need new chronic pain therapies improved efficacy side effect profiles glaucoma glaucoma chronic eye disease that if left untreated can lead blindness according world health organization glaucoma second leading cause blindness world loss vision caused degeneration optic nerve which responsible carrying images eye brain frequent symptom glaucoma increased fluid pressure within eye referred intraocular pressure early stages disease there may be no symptoms estimated that over four million people united states have glaucoma but only half those know they have older people are higher risk glaucoma disease more prevalent people over years age incidence glaucoma expected increase average age population increases currently there are variety options available treat glaucoma including eye medications laser procedures surgery these treatment options are intended decrease intraocular pressure thereby protect optic nerve physicians often treat glaucoma multiple classes drugs optimize therapy table contents minimize side effects drugs used treat glaucoma include prostaglandin analogs such xalatan lumigan beta blockers such timolol alpha agonists such alphagan well combined medications xalatan market leader glaucoma treatment worldwide sales billion while xalatan effective anti glaucoma agent frequently causes increased pigmentation iris that may lead change iris color may cause other side effects including blurred vision burning stinging sensations eye we believe there need new more effective drugs that can treat glaucoma fewer side effects help patients reduce risk losing their vision our product candidates we are focused portfolio our four most advanced product candidates consisting three product candidates clinical development one product candidate ind track development which we are conducting required development studies preparation potential future clinical trials we believe that our product candidates offer innovative therapeutic approaches may provide significant advantages relative current therapies following table summarizes our most advanced product candidates product candidate indication stage development commercialization rights pimavanserin parkinson disease psychosis phase iii acadia schizophrenia phase ii acadia alzheimer disease psychosis phase ii acadia agn xx yy chronic pain phase ii allergan ac glaucoma phase allergan am schizophrenia ind track meiji seika asia acadia rest world acadia has established protocol future phase ii feasibility study alzheimer disease psychosis pimavanserin overview pimavanserin new chemical entity that we discovered have advanced phase iii development potential first class treatment parkinson disease psychosis pimavanserin small molecule product candidate that can be taken orally tablet once day pimavanserin selectively blocks activity ht receptor drug target that plays important role psychosis we hold worldwide rights pimavanserin have established patent portfolio which includes numerous issued patents generically covering pimavanserin well issued patents specifically covering pimavanserin united states europe several additional countries we have selected parkinson disease psychosis our lead indication pimavanserin we are currently focused advancing our phase iii program indication we also believe that pimavanserin has potential address range additional neurological psychiatric indications that are undeserved currently marketed antipsychotics we have completed phase ii trial pimavanserin co therapy schizophrenia have established protocol future phase ii feasibility study explore potential pimavanserin treatment alzheimer disease psychosis future we intend use our phase iii parkinson disease psychosis program foundation develop commercialize pimavanserin these other potential central nervous system indications through collaboration strategic partners table contents pimavanserin treatment parkinson disease psychosis we are phase iii development pimavanserin treatment parkinson disease psychosis currently there are no therapies approved treat parkinson disease psychosis united states we believe that pimavanserin may effectively treat psychosis patients parkinson disease without compromising motor control thereby significantly improving quality life these patients result we believe that if approved pimavanserin will offer significant advantages relative current antipsychotics used off label treatment parkinson disease psychosis we are currently conducting several studies our phase iii program pimavanserin parkinson disease psychosis including phase iii trial referred study designed evaluate efficacy tolerability safety pimavanserin treatment patients parkinson disease psychosis study multi center double blind placebo controlled trial expected enroll about patients clinical centers located united states patients are randomized two study arms receive oral doses either mg pimavanserin placebo once daily six weeks patients also continue receive stable doses their existing dopamine replacement therapy used manage motor symptoms parkinson disease primary endpoint study antipsychotic efficacy measured using items hallucinations delusions domains scale assessment positive symptoms saps we employ independent centralized ratings assess primary endpoint study motoric tolerability key secondary endpoint study measured using parts ii iii unified parkinson disease rating scale updrs study builds signals efficacy observed our earlier studies incorporates several study design enhancements based previous data experience we have gained our parkinson disease program addition study we are continuing conduct open label safety extension study referred study involving patients parkinson disease psychosis who have completed our earlier phase iii studies well patients who complete study patients are eligible participate study if opinion treating physician patient may benefit continued treatment pimavanserin study together similar extension study that still ongoing our earlier phase ii parkinson disease psychosis trial has generated considerable amount long term safety data pimavanserin total over patients have now been treated pimavanserin over one year our longest single patient exposure greater than six years we believe that our experience date suggests that long term administration pimavanserin safe well tolerated fragile elderly patient population september we announced top line results initial phase iii trial pimavanserin patients parkinson disease psychosis referred study while study was impacted larger than expected placebo response did not meet its primary endpoint signals antipsychotic efficacy were consistently observed pimavanserin mg study arm these signals were most prominent united states portion study which comprised nearly one half patients study study met key secondary endpoint motoric tolerability pimavanserin was safe well tolerated study basis data study during we concluded second phase iii trial referred study early analyzed study order use findings support our design study study mg pimavanserin arm showed signal efficacy primary assessment scale statistically significant difference placebo secondary outcome measure study met key secondary endpoint motoric tolerability pimavanserin was safe well tolerated study we announced top line results multi center double blind placebo controlled phase ii clinical trial pimavanserin patients parkinson disease psychosis trial met primary endpoint which was demonstrate that administration pimavanserin did not result deterioration motoric function these patients measured updrs pimavanserin also showed antipsychotic effects secondary endpoints using two different rating scales including saps pimavanserin was safe well tolerated study table contents pimavanserin co therapy schizophrenia combining pimavanserin low dose antipsychotic drug such risperidone commonly prescribed atypical antipsychotic drug we believe that optimal relationship between ht receptor blockade partial dopamine receptor blockade can be achieved therefore we believe co therapy pimavanserin may result enhanced efficacy fewer side effects relative existing treatments thereby providing improved therapy patients schizophrenia potentially related psychiatric disorders we reported positive results multi center double blind placebo controlled phase ii clinical trial designed evaluate pimavanserin co therapy patients schizophrenia trial results showed several advantages co therapy pimavanserin mg low dose risperidone patients schizophrenia these advantages included enhanced efficacy comparable that mg standard dose risperidone faster onset antipsychotic action improved side effect profile including significantly less weight gain compared standard dose risperidone if we elect pursue further development indication future we expect that will be through collaboration partner pimavanserin treatment alzheimer disease psychosis patients alzheimer disease psychosis parkinson disease psychosis share many common characteristics they are typically elderly frail often exhibit similar psychiatric symptoms associated their underlying neurodegenerative disease preclinical models alzheimer disease psychosis we have shown that pimavanserin attenuates psychosis related behaviors those models addition pimavanserin has been shown positively interact muscarinic agonists cholinesterase inhibitors enhance their pro cognitive antipsychotic actions preclinical models because its mechanism action favorable safety profile observed date studies conducted elderly patients parkinson disease psychosis we believe that pimavanserin also may be ideally suited address need new treatment alzheimer disease psychosis that safe effective well tolerated we have established protocol phase ii feasibility study evaluate potential pimavanserin treatment alzheimer disease psychosis while our resources are currently focused our phase iii program parkinson disease psychosis we intend pursue our planned feasibility study alzheimer disease psychosis future independently collaboration partner agn xx yy collaboration allergan we have discovered are developing new class small molecule product candidates treatment chronic pain our novel alpha adrenergic agonists provide pain relief range preclinical models without side effects current pain therapies including sedation cardiovascular respiratory effects allergan has conducted several phase ii trials program has reported preliminary results its phase ii program including positive proof concept visceral pain trial patients that had hypersensitivity esophagus efficacy signals two chronic pain trials areas fibromyalgia irritable bowel syndrome allergan has announced that seeking partner further development program commercialization areas predominantly served general practitioners ac we have discovered collaboration allergan are developing ac small molecule product candidate treatment glaucoma using our proprietary drug discovery platform we identified subtype muscarinic receptors that controls intraocular pressure discovered lead compounds that selectively activate target preclinical models ac has demonstrated promising preclinical profile including robust efficacy long duration action allergan conducting phase clinical trials glaucoma patients ac table contents am we have discovered collaboration meiji seika are ind track development am small molecule product candidate treatment schizophrenia related psychiatric disorders am was selected series lead compounds that provide potential new class pro cognitive antipsychotic drugs these compounds combine muscarinic agonism actions both dopamine serotonin receptors am has demonstrated robust effects animal models psychosis pro cognitive effects animal models cognition collaboration meiji seika we are conducting required development studies preparation potential future clinical trials we intend co develop am collaboration meiji seika through completion proof concept clinical studies which point meiji seika will be solely responsible continued development commercialization asia we plan seek strategic partner pursue development commercialization rest world other product candidates addition our four most advanced product candidates development we have used our proprietary drug discovery platform discover additional product candidates these include two preclinical programs area parkinson disease first our er beta program where we have discovered compounds that may possess neuroprotective anti inflammatory properties may have ability slow down progression parkinson disease our initial research studies these er beta compounds have been supported grants michael fox foundation second preclinical program we discovered compounds that selectively activate nurr rxr complexes promote viability dopamine containing neurons we are conducting studies examine effects these compounds neuroprotection neuroregeneration preclinical models parkinson disease pursuant another grant michael fox foundation currently our resources are focused our most advanced product candidates including pimavanserin we are not devoting significant resources earlier stage programs that are not directly funded however we may elect pursue development additional product candidates future partnerships independently our drug discovery platform capabilities overview all our product candidates that are currently clinical trials earlier stages discovery development emanate discoveries made using our proprietary drug discovery platform we have demonstrated that our platform can be used rapidly identify drug like small molecule chemistries wide range drug targets we believe that our expertise combined our proprietary platform has allowed us discover product candidates more efficiently than traditional approaches our drug discovery approach our drug discovery approach designed introduce chemistry early stage drug discovery process enable selection most attractive drug like chemistries desired targets key our discovery approach has been our set proprietary functional test systems assays that we developed large number targets predominantly protein coupled receptor nuclear receptor gene families we believe that these gene families represent most relevant feasible targets small molecule drug discovery focused central nervous system indications we have used our proprietary assays conjunction our proprietary receptor selection amplification technology cell based assay system which we refer sat validate drug targets discover novel small molecules that are specific these targets table contents collaboration agreements we have established three separate collaboration agreements allergan collaboration agreement meiji seika technology license agreement aventis leverage our drug discovery platform related assets advance development commercialize selected product candidates our collaborations have typically included upfront payments initiation collaboration research support during research term if applicable milestone payments upon successful completion specified development objectives royalties based upon sales if any drugs developed under collaboration our current agreements are follows allergan march we entered into collaboration agreement allergan discover develop commercialize new therapeutics ophthalmic other indications agreement originally provided three year research term which has been extended parties through march december we had received aggregate million under agreement consisting upfront payment research funding related fees during extended research term allergan entitled exclusively license specified chemistry related assets development commercialization if we grant allergan such exclusive license we would be eligible receive license fees milestone payments upon successful achievement agreed upon clinical regulatory objectives well royalties future product sales if any worldwide assuming license successful development product area eye care we could receive up approximately million aggregate license fees milestone payments per product under agreement well royalties future product sales worldwide if any july we entered into collaboration agreement allergan discover develop commercialize selective muscarinic drugs treatment glaucoma under agreement we provided our chemistry discovery expertise enable allergan select compound development we granted allergan exclusive worldwide rights commercialize products based compound treatment ocular disease which program currently phase development december we had received aggregate million payments under agreement consisting upfront fees research funding milestone payments we are eligible receive additional milestone payments up million aggregate well royalties future product sales worldwide if any allergan may terminate agreement upon days notice however if terminated allergan rights selected compound would revert us september we entered into collaboration agreement allergan focused primarily discovery development new therapeutics pain which program phase ii development ophthalmic indications agreement was amended conjunction execution subsequent amendments march collaboration agreement provides continued development product candidates one target area we are restricted conducting competing research that target area pursuant agreement we granted allergan exclusive worldwide rights commercialize products resulting collaboration we had received aggregate million research funding milestone payments through december under agreement we are eligible receive additional milestone payments up million aggregate well royalties future product sales worldwide if any connection execution collaboration agreement allergan made million equity investment us general terms our collaboration agreements allergan continue until later expiration last expire patent covering product licensed under collaboration least years date first commercial sale product addition each our allergan collaboration agreements includes research term that shorter but may be renewed if agreed parties meiji seika kaisha march we entered into collaboration agreement meiji seika develop commercialize novel class pro cognitive drugs treat patients schizophrenia related disorders japan several other asian countries under agreement we are eligible receive up million aggregate payments table contents including million license fees up million potential development regulatory milestone payments well royalties product sales if any asian territory meiji seika also responsible first million development expenses we meiji seika will share remaining expenses through clinical proof concept subject possible adjustment event we further license program outside asian territory meiji seika responsible all costs associated development manufacturing commercialization product candidate asian territory eligible share portion any product related revenues received us rest world december we had received aggregate million payments under agreement including million license fees reimbursement initial development expenses our agreement meiji seika subject early termination upon specified events aventis july we entered into agreement aventis under which we have licensed portion our technology their use specified area that we are not pursuing presently intellectual property we currently hold issued patents issued foreign patents all these patents originated us addition we have provisional utility patent applications foreign patent applications patents other proprietary rights are essential element our business our strategy file patent applications united states any other country that represents important potential commercial market us addition we seek protect our technology inventions improvements inventions that are important development our business our patent applications claim proprietary technology including methods screening chemical synthetic methods novel drug targets novel compounds identified using our technology we also rely upon trade secret rights protect other technologies that may be used discover validate targets that may be used identify develop novel drugs we protect our trade secrets part through confidentiality proprietary information agreements we have entered into license agreement dated november certain intellectual property rights ipsen group order expand strengthen intellectual property portfolio our serotonin platform we are party various other license agreements that give us rights use certain technologies our research development pimavanserin seven patents have been issued us that provide coverage pimavanserin comprising two that cover compound generically five that specifically cover pimavanserin polymorphs thereof use thereof treating parkinson disease psychosis schizophrenia sleep disorders generic coverage expires pimavanserin specific patent parkinson disease psychosis treatment patent provide protection until june respectively patent that covers polymorphs pimavanserin provides protection until june we have issued foreign patents that specifically cover pimavanserin including patents european countries australia hong kong india mexico new zealand russia singapore south africa which provide patent protection through we continue prosecute patent applications directed pimavanserin methods treating various diseases using pimavanserin either alone combination other agents worldwide agn xx yy we have not been issued are not pursuing patents covering compounds being pursued allergan under collaboration compounds are covered allergan patents table contents ac we have two patents that have been issued us providing coverage compounds covered our collaboration allergan treatment glaucoma these patents will expire we have issued foreign patents pending foreign applications that cover these compounds issued foreign patents program will expire am two patents have been issued us that provide coverage compounds covered our collaboration meiji seika these patents expire we have issued foreign patents that cover these compounds these patents provide protection through other product candidates we have issued patents issued foreign patents claims other product candidates that are earlier stages development our drug discovery platform our core sat technology protected eight issued patents foreign patents our patents sat will expire over range foreign patents covering sat will expire over range competition we face will continue face intense competition pharmaceutical biotechnology companies well numerous academic research institutions governmental agencies both united states abroad we compete will compete applicable existing new products being developed our competitors some these competitors are pursuing development pharmaceuticals that target same diseases conditions that our research development programs target each our clinical programs we intend complete clinical trials designed evaluate potential advantages our product candidates compared current standard care even if we our collaborators are successful developing our product candidates resulting products would compete variety established drugs areas parkinson disease psychosis schizophrenia alzheimer disease psychosis chronic pain glaucoma example our potential product treatment parkinson disease psychosis will compete off label use antipsychotic drugs including seroquel marketed astra zeneca clozapine generic drug our potential products treatment schizophrenia would compete zyprexa marketed eli lilly risperdal marketed johnson johnson abilify marketed jointly bristol myers squibb otsuka pharmaceutical seroquel clozapine our potential product alzheimer disease psychosis would compete off label use antipsychotic drugs our potential products treatment chronic pain would compete neurontin lyrica each marketed pfizer cymbalta marketed eli lilly well variety generic proprietary opioids currently leading drugs approved chronic pain indications include lyrica successor neurontin cymbalta lyrica had worldwide sales billion cymbalta indicated treatment diabetic peripheral neuropathic pain well treatment major depressive disorder had worldwide sales billion our potential products treatment glaucoma would compete xalatan marketed pfizer lumigan alphagan marketed allergan xalatan leading drug glaucoma treatment had worldwide sales billion table contents addition companies described above other competitors may have variety drugs development awaiting fda approval that could reach market become established before we have product sell our competitors may also develop alternative therapies that could further limit market any drugs that we may develop some our competitors are using functional genomics technologies other methods identify validate drug targets discover novel small molecule drugs many our competitors their collaborators have significantly greater experience than we do following identifying validating targets screening compounds against targets preclinical clinical trials potential pharmaceutical products obtaining fda other regulatory clearances addition many our competitors their collaborators have substantially greater advantages following areas capital resources research development resources manufacturing capabilities sales marketing smaller companies also may prove be significant competitors particularly through proprietary research discoveries collaborative arrangements large pharmaceutical established biotechnology companies many our competitors have products that have been approved are advanced development we face competition other companies academic institutions governmental agencies other public private research organizations collaborative arrangements pharmaceutical biotechnology companies recruiting retaining highly qualified scientific management personnel licenses additional technologies our competitors either alone their collaborators may succeed developing technologies drugs that are more effective safer more affordable more easily administered than ours may achieve patent protection commercialize drugs sooner than us developments others may render our product candidates our technologies obsolete our failure compete effectively could have material adverse affect our business government regulation manufacturing marketing our potential products our ongoing research development activities are subject extensive regulation numerous governmental authorities united states other countries before marketing united states any new drug developed us must undergo rigorous preclinical testing clinical trials extensive regulatory clearance process implemented fda under federal food drug cosmetic act amended fda regulates among other things development testing manufacture safety efficacy record keeping labeling storage approval advertising promotion sale distribution biopharmaceutical products none our product candidates has been approved sale united states any foreign market regulatory review approval process which includes preclinical testing clinical trials each product candidate lengthy expensive uncertain united states product candidates are tested animals until adequate proof safety established clinical trials new product candidates are typically conducted three sequential phases that may overlap phase trials involve initial introduction product candidate into healthy human volunteers emphasis phase trials testing safety adverse effects dosage tolerance metabolism distribution excretion clinical pharmacology phase ii involves studies limited patient population determine initial efficacy compound specific targeted indications determine dosage tolerance optimal dosage identify possible adverse side effects safety risks once compound shows evidence table contents effectiveness found have acceptable safety profile phase ii evaluations phase iii trials are undertaken more fully evaluate clinical outcomes before commencing clinical investigations humans we our collaborators must submit fda investigational new drug application ind regulatory authorities may require additional data before allowing clinical studies commence proceed one phase another could demand that studies be discontinued suspended any time if there are significant safety issues we have past may future rely some our collaborators file inds generally direct regulatory approval process many our potential products clinical testing must also meet requirements clinical trial registration institutional review board oversight informed consent health information privacy good clinical practices establish new product candidate safety efficacy fda requires companies seeking approval market drug product submit extensive preclinical clinical data along other information each indication data information are submitted fda form new drug application nda generating required data information nda takes many years requires expenditure substantial resources information generated process susceptible varying interpretations that could delay limit prevent regulatory approval any stage process failure demonstrate adequately quality safety efficacy product candidate under development would delay prevent regulatory approval product candidate we cannot assure you that even if clinical trials are completed either our collaborators we will submit applications required authorizations manufacture and or market potential products that any such application will be reviewed approved appropriate regulatory authorities timely manner if all under applicable laws fda regulations each nda submitted fda approval usually given internal administrative review within days following submission nda if deemed sufficiently complete permit substantive review fda will file nda fda can refuse file any nda that deems incomplete not properly reviewable fda has established internal goals six months priority review ndas that cover product candidates that offer major advances treatment provide treatment where no adequate therapy exists months standard review non priority ndas however fda not legally required complete its review within these periods these performance goals may change over time moreover outcome review even if generally favorable may not be actual approval but response letter that describes additional work that must be done before nda can be approved fda review nda may involve review recommendations independent fda advisory committee before receiving fda approval market potential product we our collaborators must demonstrate through adequate well controlled clinical studies that potential product safe effective patient population that will be treated if regulatory approval potential product granted approval will be limited those disease states conditions which product approved marketing promoting drug unapproved indication generally prohibited furthermore fda approval may entail ongoing requirements risk management including post marketing studies even if approval obtained marketed product its manufacturer its manufacturing facilities are subject continuing review periodic inspections fda discovery previously unknown problems product manufacturer facility may result restrictions product manufacturer including labeling changes warning letters costly recalls withdrawal product market any drug likely produce some toxicities undesirable side effects animals humans when administered sufficiently high doses and or sufficiently long periods time unacceptable toxicities side effects may occur any dose level any time course studies animals designed identify unacceptable effects product candidate known toxicological studies during clinical trials our potential products appearance any unacceptable toxicity side effect could cause us regulatory authorities interrupt limit delay abort development any our product candidates further such unacceptable toxicity side effects could ultimately prevent potential product approval fda foreign regulatory authorities any all targeted indications limit any labeling claims even if product approved table contents we our collaborators contract manufacturers also are required comply applicable fda current good manufacturing practice regulations good manufacturing practice regulations include requirements relating quality control quality assurance well corresponding maintenance records documentation manufacturing facilities are subject inspection fda these facilities must be approved before we can use them commercial manufacturing our potential products fda may conclude that we our collaborators contract manufacturers are not compliance applicable good manufacturing practice requirements other fda regulatory requirements if product approved we must also comply post marketing requirements including but not limited compliance prescription drug marketing act anti fraud abuse laws post marketing safety surveillance addition we are subject state regulation including but not limited implementation corporate compliance programs gift reporting healthcare professionals outside united states our ability market product contingent upon receiving marketing authorization appropriate regulatory authorities requirements governing conduct clinical trials marketing authorization pricing reimbursement vary widely country country present foreign marketing authorizations are applied national level although within european community ec registration procedures are available companies wishing market product more than one ec member state if regulatory authority satisfied that adequate evidence safety quality efficacy has been presented marketing authorization will be granted foreign regulatory approval process involves all risks associated fda marketing approval discussed above drugs serious life threatening illnesses federal food drug cosmetic act amended fda regulations provide certain mechanisms accelerated fast track approval potential products intended treat serious life threatening illnesses which have been studied safety effectiveness which demonstrate potential address unmet medical needs these procedures permit early consultation commitment fda regarding preclinical clinical studies necessary gain marketing approval provisions regulatory framework also permit certain cases ndas be approved basis valid surrogate markers product effectiveness thus accelerating normal approval process certain potential products employing our technology might qualify accelerated regulatory procedure even if fda agrees that these potential products qualify accelerated approval procedures fda may deny approval our drugs may require that additional studies be required before approval fda may also require us perform post approval phase iv studies condition such early approval addition fda may impose restrictions distribution and or promotion connection any accelerated approval may withdraw approval if post approval studies do not confirm intended clinical benefit safety potential product other regulatory requirements united states research manufacturing distribution sale promotion drug products are potentially subject regulation various federal state local authorities addition fda including centers medicare medicaid services formerly health care financing administration other divisions united states department health human services including example office inspector general state local governments example if drug product reimbursed medicare medicaid other federal state health care programs sales marketing scientific educational grant programs must comply medicare medicaid anti fraud abuse act amended false claims act also amended similar state laws if drug product reimbursed medicare medicaid pricing rebate programs must comply applicable medicaid rebate requirements omnibus budget reconciliation act amended medicare prescription drug improvement modernization act additionally patient protection affordable care act amended health care table contents education affordability reconciliation act collectively ppaca enacted march substantially changes way healthcare financed both governmental private insurers among other cost containment measures ppaca establishes annual nondeductible fee any entity that manufactures imports certain branded prescription drugs biologic agents new medicare part coverage gap discount program new formula that increases rebates manufacturer must pay under medicaid drug rebate program future there may continue be additional proposals relating reform healthcare system some which could further limit prices that can be charged drug products amounts reimbursement available drug products if drug products are made available authorized users federal supply schedule general services administration additional laws requirements apply all these activities are also potentially subject federal state consumer protection unfair competition laws marketing sales distribution we currently have no marketing sales distribution capabilities order commercialize any our product candidates we must develop these capabilities internally through collaboration third parties selected therapeutic areas where we feel that our product candidates can be commercialized specialty sales force that calls limited focused group physicians we plan participate commercialization our product candidates therapeutic areas that require large sales force selling large diverse prescribing population we plan partner our product candidates commercialization manufacturing we outsource plan continue outsource manufacturing responsibilities our existing future product candidates development commercial purposes production pimavanserin employs small molecule synthetic organic chemistry procedures that are standard pharmaceutical industry our collaboration agreements provide our partners arrange production our product candidates use clinical trials potential commercialization employees december we had employees whom hold ph other advanced degrees our total workforce are engaged research development activities are engaged executive finance administration activities none our employees represented collective bargaining agreement nor have we experienced work stoppages we believe that our relations our employees are good research development expenses our research development expenses were million million million long lived assets information regarding long lived assets geographic area follows december thousands united states europe total table contents'"
      ]
     },
     "execution_count": 31,
     "metadata": {},
     "output_type": "execute_result"
    }
   ],
   "source": [
    "documents[6]"
   ]
  },
  {
   "cell_type": "code",
   "execution_count": null,
   "metadata": {},
   "outputs": [],
   "source": []
  }
 ],
 "metadata": {
  "kernelspec": {
   "display_name": "Python 3",
   "language": "python",
   "name": "python3"
  },
  "language_info": {
   "codemirror_mode": {
    "name": "ipython",
    "version": 3
   },
   "file_extension": ".py",
   "mimetype": "text/x-python",
   "name": "python",
   "nbconvert_exporter": "python",
   "pygments_lexer": "ipython3",
   "version": "3.5.2"
  }
 },
 "nbformat": 4,
 "nbformat_minor": 2
}
