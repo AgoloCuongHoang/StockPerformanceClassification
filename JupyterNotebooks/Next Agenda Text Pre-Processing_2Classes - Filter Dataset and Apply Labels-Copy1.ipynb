{
 "cells": [
  {
   "cell_type": "markdown",
   "metadata": {},
   "source": [
    "# 1 - Source Text Filtering"
   ]
  },
  {
   "cell_type": "code",
   "execution_count": 1,
   "metadata": {},
   "outputs": [
    {
     "name": "stdout",
     "output_type": "stream",
     "text": [
      "3.5.2 |Continuum Analytics, Inc.| (default, Jul  5 2016, 11:41:13) [MSC v.1900 64 bit (AMD64)]\n"
     ]
    }
   ],
   "source": [
    "import sys\n",
    "print(sys.version)"
   ]
  },
  {
   "cell_type": "code",
   "execution_count": 2,
   "metadata": {},
   "outputs": [
    {
     "name": "stderr",
     "output_type": "stream",
     "text": [
      "C:\\Users\\pattyry\\AppData\\local\\AmlWorkbench\\Python\\lib\\site-packages\\gensim\\utils.py:862: UserWarning: detected Windows; aliasing chunkize to chunkize_serial\n",
      "  warnings.warn(\"detected Windows; aliasing chunkize to chunkize_serial\")\n"
     ]
    }
   ],
   "source": [
    "# Use AzureML's data collector to log various metrics!\n",
    "#from azureml.logging import current_scriptrun\n",
    "#logger = current_scriptrun()\n",
    "\n",
    "import string, re\n",
    "import pandas as pd\n",
    "from nltk.corpus import stopwords\n",
    "from gensim import corpora, models, similarities\n",
    "import azureml\n",
    "from __future__ import division\n",
    "import numpy as np\n",
    "import nltk\n",
    "from nltk.corpus import stopwords\n",
    "from azure.storage.blob import BlockBlobService"
   ]
  },
  {
   "cell_type": "markdown",
   "metadata": {},
   "source": [
    "Import source text and write to a pandas dataframe"
   ]
  },
  {
   "cell_type": "code",
   "execution_count": 3,
   "metadata": {},
   "outputs": [
    {
     "data": {
      "text/plain": [
       "'C:\\\\Users\\\\pattyry\\\\Documents\\\\AzureML\\\\NextAgenda_CodeStory\\\\NextAgenda_CodeStory'"
      ]
     },
     "execution_count": 3,
     "metadata": {},
     "output_type": "execute_result"
    }
   ],
   "source": [
    "import os\n",
    "os.getcwd()"
   ]
  },
  {
   "cell_type": "code",
   "execution_count": 4,
   "metadata": {},
   "outputs": [
    {
     "name": "stdout",
     "output_type": "stream",
     "text": [
      "Data unpickled\n"
     ]
    },
    {
     "data": {
      "text/plain": [
       "(32233, 16)"
      ]
     },
     "execution_count": 4,
     "metadata": {},
     "output_type": "execute_result"
    }
   ],
   "source": [
    "import pickle\n",
    "with open('Data2.pkl', 'rb') as f:\n",
    "    data = pickle.load(f)\n",
    "    print(\"Data unpickled\")\n",
    "    import pandas as pd\n",
    "data = pd.DataFrame(data)\n",
    "data.shape"
   ]
  },
  {
   "cell_type": "markdown",
   "metadata": {},
   "source": [
    "Review data"
   ]
  },
  {
   "cell_type": "code",
   "execution_count": 5,
   "metadata": {},
   "outputs": [
    {
     "data": {
      "text/html": [
       "<div>\n",
       "<style>\n",
       "    .dataframe thead tr:only-child th {\n",
       "        text-align: right;\n",
       "    }\n",
       "\n",
       "    .dataframe thead th {\n",
       "        text-align: left;\n",
       "    }\n",
       "\n",
       "    .dataframe tbody tr th {\n",
       "        vertical-align: top;\n",
       "    }\n",
       "</style>\n",
       "<table border=\"1\" class=\"dataframe\">\n",
       "  <thead>\n",
       "    <tr style=\"text-align: right;\">\n",
       "      <th></th>\n",
       "      <th>Ticker</th>\n",
       "      <th>Year</th>\n",
       "      <th>Month</th>\n",
       "      <th>Day</th>\n",
       "      <th>Date</th>\n",
       "      <th>Category</th>\n",
       "      <th>Category Number</th>\n",
       "      <th>Future_4_weeks</th>\n",
       "      <th>Future_26_weeks</th>\n",
       "      <th>Text</th>\n",
       "      <th>Label</th>\n",
       "      <th>Price_Date</th>\n",
       "      <th>Price_4_weeks</th>\n",
       "      <th>Price_26_weeks</th>\n",
       "      <th>Return_4_weeks</th>\n",
       "      <th>Return_26_weeks</th>\n",
       "    </tr>\n",
       "  </thead>\n",
       "  <tbody>\n",
       "    <tr>\n",
       "      <th>1</th>\n",
       "      <td>AAL</td>\n",
       "      <td>2014</td>\n",
       "      <td>02</td>\n",
       "      <td>28</td>\n",
       "      <td>2014-02-28</td>\n",
       "      <td>Major Airlines</td>\n",
       "      <td>770</td>\n",
       "      <td>2014-03-28</td>\n",
       "      <td>2014-08-29</td>\n",
       "      <td>OverviewAmerican Airlines Group Inc. (AAG) a D...</td>\n",
       "      <td>Item1</td>\n",
       "      <td>35.798592</td>\n",
       "      <td>34.305775</td>\n",
       "      <td>37.784386</td>\n",
       "      <td>-4.178315</td>\n",
       "      <td>0.788191</td>\n",
       "    </tr>\n",
       "    <tr>\n",
       "      <th>2</th>\n",
       "      <td>AAL</td>\n",
       "      <td>2013</td>\n",
       "      <td>02</td>\n",
       "      <td>20</td>\n",
       "      <td>2013-02-20</td>\n",
       "      <td>Major Airlines</td>\n",
       "      <td>770</td>\n",
       "      <td>2013-03-20</td>\n",
       "      <td>2013-08-21</td>\n",
       "      <td>Chapter 11 ProceedingsOn November 29, 2011 (th...</td>\n",
       "      <td>Item1</td>\n",
       "      <td>12.921616</td>\n",
       "      <td>16.702129</td>\n",
       "      <td>15.325636</td>\n",
       "      <td>25.062782</td>\n",
       "      <td>11.639949</td>\n",
       "    </tr>\n",
       "  </tbody>\n",
       "</table>\n",
       "</div>"
      ],
      "text/plain": [
       "  Ticker  Year Month Day        Date        Category Category Number  \\\n",
       "1    AAL  2014    02  28  2014-02-28  Major Airlines             770   \n",
       "2    AAL  2013    02  20  2013-02-20  Major Airlines             770   \n",
       "\n",
       "  Future_4_weeks Future_26_weeks  \\\n",
       "1     2014-03-28      2014-08-29   \n",
       "2     2013-03-20      2013-08-21   \n",
       "\n",
       "                                                Text  Label  Price_Date  \\\n",
       "1  OverviewAmerican Airlines Group Inc. (AAG) a D...  Item1   35.798592   \n",
       "2  Chapter 11 ProceedingsOn November 29, 2011 (th...  Item1   12.921616   \n",
       "\n",
       "   Price_4_weeks  Price_26_weeks  Return_4_weeks  Return_26_weeks  \n",
       "1      34.305775       37.784386       -4.178315         0.788191  \n",
       "2      16.702129       15.325636       25.062782        11.639949  "
      ]
     },
     "execution_count": 5,
     "metadata": {},
     "output_type": "execute_result"
    }
   ],
   "source": [
    "data.head(2)"
   ]
  },
  {
   "cell_type": "code",
   "execution_count": 6,
   "metadata": {},
   "outputs": [
    {
     "data": {
      "text/plain": [
       "2014    4174\n",
       "2015    4033\n",
       "2012    3694\n",
       "2013    3652\n",
       "2016    3594\n",
       "2011    2901\n",
       "2010    2774\n",
       "2009    2675\n",
       "2017    2451\n",
       "2008    2285\n",
       "Name: Year, dtype: int64"
      ]
     },
     "execution_count": 6,
     "metadata": {},
     "output_type": "execute_result"
    }
   ],
   "source": [
    "data['Year'].value_counts()"
   ]
  },
  {
   "cell_type": "markdown",
   "metadata": {},
   "source": [
    "Discard some data, Append Ticker to the text."
   ]
  },
  {
   "cell_type": "code",
   "execution_count": 7,
   "metadata": {},
   "outputs": [
    {
     "name": "stdout",
     "output_type": "stream",
     "text": [
      "(32233, 14)\n"
     ]
    },
    {
     "data": {
      "text/html": [
       "<div>\n",
       "<style>\n",
       "    .dataframe thead tr:only-child th {\n",
       "        text-align: right;\n",
       "    }\n",
       "\n",
       "    .dataframe thead th {\n",
       "        text-align: left;\n",
       "    }\n",
       "\n",
       "    .dataframe tbody tr th {\n",
       "        vertical-align: top;\n",
       "    }\n",
       "</style>\n",
       "<table border=\"1\" class=\"dataframe\">\n",
       "  <thead>\n",
       "    <tr style=\"text-align: right;\">\n",
       "      <th></th>\n",
       "      <th>Ticker</th>\n",
       "      <th>Date</th>\n",
       "      <th>Category</th>\n",
       "      <th>Category Number</th>\n",
       "      <th>Future_4_weeks</th>\n",
       "      <th>Future_26_weeks</th>\n",
       "      <th>Text</th>\n",
       "      <th>Label</th>\n",
       "      <th>Price_Date</th>\n",
       "      <th>Price_4_weeks</th>\n",
       "      <th>Price_26_weeks</th>\n",
       "      <th>Return_4_weeks</th>\n",
       "      <th>Return_26_weeks</th>\n",
       "      <th>fulltext</th>\n",
       "    </tr>\n",
       "  </thead>\n",
       "  <tbody>\n",
       "    <tr>\n",
       "      <th>1</th>\n",
       "      <td>AAL</td>\n",
       "      <td>2014-02-28</td>\n",
       "      <td>Major Airlines</td>\n",
       "      <td>770</td>\n",
       "      <td>2014-03-28</td>\n",
       "      <td>2014-08-29</td>\n",
       "      <td>OverviewAmerican Airlines Group Inc. (AAG) a D...</td>\n",
       "      <td>Item1</td>\n",
       "      <td>35.798592</td>\n",
       "      <td>34.305775</td>\n",
       "      <td>37.784386</td>\n",
       "      <td>-4.178315</td>\n",
       "      <td>0.788191</td>\n",
       "      <td>AAL.   OverviewAmerican Airlines Group Inc. (A...</td>\n",
       "    </tr>\n",
       "    <tr>\n",
       "      <th>2</th>\n",
       "      <td>AAL</td>\n",
       "      <td>2013-02-20</td>\n",
       "      <td>Major Airlines</td>\n",
       "      <td>770</td>\n",
       "      <td>2013-03-20</td>\n",
       "      <td>2013-08-21</td>\n",
       "      <td>Chapter 11 ProceedingsOn November 29, 2011 (th...</td>\n",
       "      <td>Item1</td>\n",
       "      <td>12.921616</td>\n",
       "      <td>16.702129</td>\n",
       "      <td>15.325636</td>\n",
       "      <td>25.062782</td>\n",
       "      <td>11.639949</td>\n",
       "      <td>AAL.   Chapter 11 ProceedingsOn November 29, 2...</td>\n",
       "    </tr>\n",
       "  </tbody>\n",
       "</table>\n",
       "</div>"
      ],
      "text/plain": [
       "  Ticker        Date        Category Category Number Future_4_weeks  \\\n",
       "1    AAL  2014-02-28  Major Airlines             770     2014-03-28   \n",
       "2    AAL  2013-02-20  Major Airlines             770     2013-03-20   \n",
       "\n",
       "  Future_26_weeks                                               Text  Label  \\\n",
       "1      2014-08-29  OverviewAmerican Airlines Group Inc. (AAG) a D...  Item1   \n",
       "2      2013-08-21  Chapter 11 ProceedingsOn November 29, 2011 (th...  Item1   \n",
       "\n",
       "   Price_Date  Price_4_weeks  Price_26_weeks  Return_4_weeks  Return_26_weeks  \\\n",
       "1   35.798592      34.305775       37.784386       -4.178315         0.788191   \n",
       "2   12.921616      16.702129       15.325636       25.062782        11.639949   \n",
       "\n",
       "                                            fulltext  \n",
       "1  AAL.   OverviewAmerican Airlines Group Inc. (A...  \n",
       "2  AAL.   Chapter 11 ProceedingsOn November 29, 2...  "
      ]
     },
     "execution_count": 7,
     "metadata": {},
     "output_type": "execute_result"
    }
   ],
   "source": [
    "data1=data.drop(['Month', 'Day','Year'], axis=1)\n",
    "data1['fulltext'] = data1[['Ticker', 'Text']].apply(lambda x: '.   '.join(x), axis=1)\n",
    "print(data1.shape)\n",
    "data1.head(2)"
   ]
  },
  {
   "cell_type": "markdown",
   "metadata": {},
   "source": [
    "Create calculated normalized percent return, creaate TWO bins"
   ]
  },
  {
   "cell_type": "code",
   "execution_count": 9,
   "metadata": {},
   "outputs": [
    {
     "name": "stdout",
     "output_type": "stream",
     "text": [
      "(32233, 18)\n"
     ]
    },
    {
     "data": {
      "image/png": "[encoded data removed]",
      "text/plain": [
       "<matplotlib.figure.Figure at 0x17aa22a9518>"
      ]
     },
     "metadata": {},
     "output_type": "display_data"
    },
    {
     "data": {
      "text/plain": [
       "<ggplot: (101638655152)>"
      ]
     },
     "execution_count": 9,
     "metadata": {},
     "output_type": "execute_result"
    }
   ],
   "source": [
    "data2=data1\n",
    "data2[\"PercReturn_4_Weeks\"] = data2.Return_4_weeks / data2.Price_Date\n",
    "data2[\"PercReturn_26_Weeks\"] = data2.Return_26_weeks / data2.Price_Date\n",
    "data2[\"ReturnBin_4Weeks\"] = pd.qcut(data2[\"PercReturn_4_Weeks\"], 2,labels=range(2))\n",
    "data2[\"ReturnBin_26Weeks\"] = pd.qcut(data2[\"PercReturn_26_Weeks\"], 2,labels=range(2))\n",
    "referencedata=data2\n",
    "print(data2.shape)\n",
    "data2.head(2)\n",
    "import ggplot\n",
    "from ggplot import *\n",
    "ggplot(data2, aes(x='ReturnBin_4Weeks')) + \\\n",
    "    geom_histogram() "
   ]
  },
  {
   "cell_type": "code",
   "execution_count": 10,
   "metadata": {},
   "outputs": [
    {
     "name": "stdout",
     "output_type": "stream",
     "text": [
      "(32233, 14)\n"
     ]
    }
   ],
   "source": [
    "df=data2\n",
    "df['fulltext'] = df[['Ticker', 'Text']].apply(lambda x: '.   '.join(x), axis=1)\n",
    "df=df.drop(['Text','Ticker','Category Number','Label'], axis=1)\n",
    "print(df.shape)"
   ]
  },
  {
   "cell_type": "code",
   "execution_count": 11,
   "metadata": {},
   "outputs": [
    {
     "name": "stdout",
     "output_type": "stream",
     "text": [
      "['Major Airlines' 'Rental & Leasing Services' 'General Building Materials'\n",
      " 'Electronic Equipment' 'Auto Parts Stores' 'Air Services'\n",
      " 'Regional - Mid-Atlantic Banks' 'Drugs Wholesale' 'Auto Dealerships'\n",
      " 'Medical Appliances & Equipment' 'REIT - Diversified' 'Biotechnology'\n",
      " 'Office Supplies' 'REIT - Residential' 'Property & Casualty Insurance'\n",
      " 'Technical & System Software' 'Semiconductor Equipment & Materials'\n",
      " 'Technical Services' 'Information Technology Services'\n",
      " 'Application Software' 'Business Services' 'Housewares & Accessories'\n",
      " 'Property Management' 'Semiconductor - Integrated Circuits'\n",
      " 'Long-Term Care Facilities' 'Farm Products' 'Business Software & Services'\n",
      " 'Electric Utilities' 'Diversified Electronics' 'Life Insurance'\n",
      " 'Apparel Stores' 'Health Care Plans' 'Home Health Care' ''\n",
      " 'Farm & Construction Machinery' 'Credit Services' 'Drugs - Generic'\n",
      " 'REIT - Hotel/Motel' 'Aerospace/Defense Products & Services'\n",
      " 'Accident & Health Insurance' 'Mortgage Investment' 'Insurance Brokers'\n",
      " 'Aerospace/Defense - Major Diversified' 'Internet Information Providers'\n",
      " 'Steel & Iron' 'Specialty Chemicals' 'Diversified Utilities'\n",
      " 'Drug Delivery' 'Regional Airlines' 'Medical Laboratories & Research'\n",
      " 'Auto Parts' 'Diagnostic Substances' 'Asset Management'\n",
      " 'Industrial Electrical Equipment' 'Investment Brokerage - National'\n",
      " 'Home Furnishings & Fixtures' 'Catalog & Mail Order Houses'\n",
      " 'Tobacco Products' 'Independent Oil & Gas' 'Chemicals - Major Diversified'\n",
      " 'Gas Utilities' 'Trucking' 'REIT - Office' 'Industrial Metals & Minerals'\n",
      " 'Electronics Wholesale' 'Regional - Midwest Banks'\n",
      " 'Staffing & Outsourcing Services' 'Medical Instruments & Supplies'\n",
      " 'Telecom Services - Domestic' 'Air Delivery & Freight Services'\n",
      " 'Diversified Machinery' 'Multimedia & Graphics Software'\n",
      " 'Residential Construction' 'Personal Products' 'Business Equipment'\n",
      " 'Waste Management' 'Industrial Equipment Wholesale' 'Money Center Banks'\n",
      " 'Regional - Pacific Banks' 'Regional - Southwest  Banks'\n",
      " 'Networking & Communication Devices' 'Toy & Hobby Stores'\n",
      " 'Electronics Stores' 'Regional - Northeast Banks'\n",
      " 'Communication Equipment' 'Lodging' 'Savings & Loans' 'REIT - Retail'\n",
      " 'Industrial Equipment & Components' 'Sporting Goods Stores'\n",
      " 'Processed & Packaged Goods' 'Restaurants' 'Discount'\n",
      " 'Packaging & Containers' 'Scientific & Technical Instruments'\n",
      " 'Drug Manufacturers - Major' 'Department Stores' 'Metal Fabrication'\n",
      " 'Foreign Regional Banks' 'Oil & Gas Refining & Marketing'\n",
      " 'Data Storage Devices' 'Security Software & Services'\n",
      " 'Oil & Gas Equipment & Services' 'Information & Delivery Services'\n",
      " 'Oil & Gas Pipelines' 'Building Materials Wholesale'\n",
      " 'Regional - Southeast Banks' 'Resorts & Casinos' 'Wireless Communications'\n",
      " 'Grocery Stores' 'Semiconductor - Broad Line' 'General Contractors'\n",
      " 'Entertainment - Diversified' 'Pollution & Treatment Controls'\n",
      " 'Diversified Communication Services' 'Marketing Services' 'Silver'\n",
      " 'Education & Training Services' 'Food - Major Diversified'\n",
      " 'Healthcare Information Services' 'Broadcasting - TV'\n",
      " 'Semiconductor - Specialized' 'Agricultural Chemicals'\n",
      " 'Processing Systems & Products' 'Broadcasting - Radio' 'Rubber & Plastics'\n",
      " 'Movie Production' 'Conglomerates'\n",
      " 'Textile - Apparel Footwear & Accessories' 'Beverages - Soft Drinks'\n",
      " 'Textile - Apparel Clothing' 'Railroads' 'Diversified Computer Systems'\n",
      " 'Specialty Retail' 'Personal Services' 'Real Estate Development'\n",
      " 'Water Utilities' 'REIT - Industrial' 'General Entertainment'\n",
      " 'Auto Parts Wholesale' 'Major Integrated Oil & Gas'\n",
      " 'Oil & Gas Drilling & Exploration' 'Hospitals' 'Computer Based Systems'\n",
      " 'Computer Peripherals' 'Gaming Activities' 'Lumber' 'CATV Systems'\n",
      " 'Specialized Health Services' 'Sporting Activities' 'Cleaning Products'\n",
      " 'Shipping' 'Sporting Goods' 'Drug Manufacturers - Other'\n",
      " 'Internet Software & Services' 'Foreign Money Center Banks' 'Cement'\n",
      " 'Management Services' 'Printed Circuit Boards' 'Heavy Construction'\n",
      " 'Auto Manufacturers - Major' 'Publishing - Newspapers'\n",
      " 'REIT - Healthcare Facilities' 'Investment Brokerage - Regional'\n",
      " 'Long Distance Carriers' 'Gold' 'Food Wholesale' 'Toys & Games'\n",
      " 'Machine Tools & Accessories' 'Home Improvement Stores'\n",
      " 'Recreational Vehicles' 'Medical Equipment Wholesale' 'Confectioners'\n",
      " 'Telecom Services - Foreign' 'Advertising Agencies' 'Appliances'\n",
      " 'Surety & Title Insurance' 'Aluminum' 'Diversified Investments'\n",
      " 'Paper & Paper Products' 'Small Tools & Accessories'\n",
      " 'Internet Service Providers' 'Publishing - Periodicals' 'Cigarettes'\n",
      " 'Security & Protection Services' 'Trucks & Other Vehicles'\n",
      " 'Research Services' 'Drug Related Products' 'Drug Stores'\n",
      " 'Semiconductor- Memory Chips' 'Specialty Eateries' 'Copper'\n",
      " 'Jewelry Stores' 'Manufactured Housing' 'Beverages - Brewers'\n",
      " 'Computers Wholesale' 'Meat Products' 'Textile Industrial']\n"
     ]
    },
    {
     "data": {
      "text/html": [
       "<div>\n",
       "<style>\n",
       "    .dataframe thead tr:only-child th {\n",
       "        text-align: right;\n",
       "    }\n",
       "\n",
       "    .dataframe thead th {\n",
       "        text-align: left;\n",
       "    }\n",
       "\n",
       "    .dataframe tbody tr th {\n",
       "        vertical-align: top;\n",
       "    }\n",
       "</style>\n",
       "<table border=\"1\" class=\"dataframe\">\n",
       "  <thead>\n",
       "    <tr style=\"text-align: right;\">\n",
       "      <th></th>\n",
       "      <th>Category</th>\n",
       "      <th>fulltext</th>\n",
       "      <th>ReturnBin_4Weeks</th>\n",
       "      <th>ReturnBin_26Weeks</th>\n",
       "    </tr>\n",
       "  </thead>\n",
       "  <tbody>\n",
       "    <tr>\n",
       "      <th>1</th>\n",
       "      <td>Major Airlines</td>\n",
       "      <td>AAL.   OverviewAmerican Airlines Group Inc. (A...</td>\n",
       "      <td>0</td>\n",
       "      <td>0</td>\n",
       "    </tr>\n",
       "    <tr>\n",
       "      <th>2</th>\n",
       "      <td>Major Airlines</td>\n",
       "      <td>AAL.   Chapter 11 ProceedingsOn November 29, 2...</td>\n",
       "      <td>1</td>\n",
       "      <td>1</td>\n",
       "    </tr>\n",
       "  </tbody>\n",
       "</table>\n",
       "</div>"
      ],
      "text/plain": [
       "         Category                                           fulltext  \\\n",
       "1  Major Airlines  AAL.   OverviewAmerican Airlines Group Inc. (A...   \n",
       "2  Major Airlines  AAL.   Chapter 11 ProceedingsOn November 29, 2...   \n",
       "\n",
       "  ReturnBin_4Weeks ReturnBin_26Weeks  \n",
       "1                0                 0  \n",
       "2                1                 1  "
      ]
     },
     "execution_count": 11,
     "metadata": {},
     "output_type": "execute_result"
    }
   ],
   "source": [
    "allindustrydata=df\n",
    "allindustrydata=allindustrydata.drop(['PercReturn_4_Weeks',\n",
    "                                      'Future_4_weeks','Future_26_weeks','Date','Price_4_weeks','Price_26_weeks','Price_Date','PercReturn_26_Weeks','Return_4_weeks','Return_26_weeks'], axis=1)\n",
    "print(allindustrydata.Category.unique())\n",
    "allindustrydata.head(2)"
   ]
  },
  {
   "cell_type": "code",
   "execution_count": 18,
   "metadata": {},
   "outputs": [],
   "source": [
    "with open('allindustriessource2bin.pkl', 'wb') as f:\n",
    "    pickle.dump(allindustrydata, f)\n",
    "#df = pd.read_pickle(file_name)"
   ]
  },
  {
   "cell_type": "code",
   "execution_count": 19,
   "metadata": {},
   "outputs": [
    {
     "name": "stdout",
     "output_type": "stream",
     "text": [
      "Biotechnology    996\n",
      "Name: Category, dtype: int64\n"
     ]
    },
    {
     "data": {
      "text/html": [
       "<div>\n",
       "<style>\n",
       "    .dataframe thead tr:only-child th {\n",
       "        text-align: right;\n",
       "    }\n",
       "\n",
       "    .dataframe thead th {\n",
       "        text-align: left;\n",
       "    }\n",
       "\n",
       "    .dataframe tbody tr th {\n",
       "        vertical-align: top;\n",
       "    }\n",
       "</style>\n",
       "<table border=\"1\" class=\"dataframe\">\n",
       "  <thead>\n",
       "    <tr style=\"text-align: right;\">\n",
       "      <th></th>\n",
       "      <th>Date</th>\n",
       "      <th>Category</th>\n",
       "      <th>Future_4_weeks</th>\n",
       "      <th>Future_26_weeks</th>\n",
       "      <th>Price_Date</th>\n",
       "      <th>Price_4_weeks</th>\n",
       "      <th>Price_26_weeks</th>\n",
       "      <th>Return_4_weeks</th>\n",
       "      <th>Return_26_weeks</th>\n",
       "      <th>fulltext</th>\n",
       "      <th>PercReturn_4_Weeks</th>\n",
       "      <th>PercReturn_26_Weeks</th>\n",
       "      <th>ReturnBin_4Weeks</th>\n",
       "      <th>ReturnBin_26Weeks</th>\n",
       "    </tr>\n",
       "  </thead>\n",
       "  <tbody>\n",
       "    <tr>\n",
       "      <th>131</th>\n",
       "      <td>2008-03-05</td>\n",
       "      <td>Biotechnology</td>\n",
       "      <td>2008-04-02</td>\n",
       "      <td>2008-09-03</td>\n",
       "      <td>9.30</td>\n",
       "      <td>8.990000</td>\n",
       "      <td>2.690000</td>\n",
       "      <td>-6.196167</td>\n",
       "      <td>-65.182894</td>\n",
       "      <td>ACAD.   . Overview We are a biopharmaceutical ...</td>\n",
       "      <td>-0.666255</td>\n",
       "      <td>-7.008913</td>\n",
       "      <td>0</td>\n",
       "      <td>0</td>\n",
       "    </tr>\n",
       "    <tr>\n",
       "      <th>133</th>\n",
       "      <td>2016-02-29</td>\n",
       "      <td>Biotechnology</td>\n",
       "      <td>2016-03-28</td>\n",
       "      <td>2016-08-29</td>\n",
       "      <td>17.26</td>\n",
       "      <td>23.809999</td>\n",
       "      <td>32.619999</td>\n",
       "      <td>31.780087</td>\n",
       "      <td>76.964577</td>\n",
       "      <td>ACAD.   . Company Overview We are a biopharmac...</td>\n",
       "      <td>1.841257</td>\n",
       "      <td>4.459130</td>\n",
       "      <td>1</td>\n",
       "      <td>1</td>\n",
       "    </tr>\n",
       "  </tbody>\n",
       "</table>\n",
       "</div>"
      ],
      "text/plain": [
       "           Date       Category Future_4_weeks Future_26_weeks  Price_Date  \\\n",
       "131  2008-03-05  Biotechnology     2008-04-02      2008-09-03        9.30   \n",
       "133  2016-02-29  Biotechnology     2016-03-28      2016-08-29       17.26   \n",
       "\n",
       "     Price_4_weeks  Price_26_weeks  Return_4_weeks  Return_26_weeks  \\\n",
       "131       8.990000        2.690000       -6.196167       -65.182894   \n",
       "133      23.809999       32.619999       31.780087        76.964577   \n",
       "\n",
       "                                              fulltext  PercReturn_4_Weeks  \\\n",
       "131  ACAD.   . Overview We are a biopharmaceutical ...           -0.666255   \n",
       "133  ACAD.   . Company Overview We are a biopharmac...            1.841257   \n",
       "\n",
       "     PercReturn_26_Weeks ReturnBin_4Weeks ReturnBin_26Weeks  \n",
       "131            -7.008913                0                 0  \n",
       "133             4.459130                1                 1  "
      ]
     },
     "execution_count": 19,
     "metadata": {},
     "output_type": "execute_result"
    }
   ],
   "source": [
    "df1 = df[(df['Category'] ==\"Biotechnology\")]\n",
    "print(df1['Category'].value_counts())\n",
    "df1.shape\n",
    "df1.head(2)"
   ]
  },
  {
   "cell_type": "code",
   "execution_count": 20,
   "metadata": {},
   "outputs": [
    {
     "name": "stderr",
     "output_type": "stream",
     "text": [
      "C:\\Users\\pattyry\\AppData\\local\\AmlWorkbench\\Python\\lib\\site-packages\\ipykernel_launcher.py:2: SettingWithCopyWarning: \n",
      "A value is trying to be set on a copy of a slice from a DataFrame.\n",
      "Try using .loc[row_indexer,col_indexer] = value instead\n",
      "\n",
      "See the caveats in the documentation: http://pandas.pydata.org/pandas-docs/stable/indexing.html#indexing-view-versus-copy\n",
      "  \n",
      "C:\\Users\\pattyry\\AppData\\local\\AmlWorkbench\\Python\\lib\\site-packages\\ipykernel_launcher.py:3: SettingWithCopyWarning: \n",
      "A value is trying to be set on a copy of a slice from a DataFrame.\n",
      "Try using .loc[row_indexer,col_indexer] = value instead\n",
      "\n",
      "See the caveats in the documentation: http://pandas.pydata.org/pandas-docs/stable/indexing.html#indexing-view-versus-copy\n",
      "  This is separate from the ipykernel package so we can avoid doing imports until\n",
      "C:\\Users\\pattyry\\AppData\\local\\AmlWorkbench\\Python\\lib\\site-packages\\ipykernel_launcher.py:4: SettingWithCopyWarning: \n",
      "A value is trying to be set on a copy of a slice from a DataFrame.\n",
      "Try using .loc[row_indexer,col_indexer] = value instead\n",
      "\n",
      "See the caveats in the documentation: http://pandas.pydata.org/pandas-docs/stable/indexing.html#indexing-view-versus-copy\n",
      "  after removing the cwd from sys.path.\n",
      "C:\\Users\\pattyry\\AppData\\local\\AmlWorkbench\\Python\\lib\\site-packages\\ipykernel_launcher.py:5: SettingWithCopyWarning: \n",
      "A value is trying to be set on a copy of a slice from a DataFrame.\n",
      "Try using .loc[row_indexer,col_indexer] = value instead\n",
      "\n",
      "See the caveats in the documentation: http://pandas.pydata.org/pandas-docs/stable/indexing.html#indexing-view-versus-copy\n",
      "  \"\"\"\n"
     ]
    },
    {
     "name": "stdout",
     "output_type": "stream",
     "text": [
      "(996, 14)\n"
     ]
    },
    {
     "data": {
      "image/png": "[encoded data removed]",
      "text/plain": [
       "<matplotlib.figure.Figure at 0x17aa38df7f0>"
      ]
     },
     "metadata": {},
     "output_type": "display_data"
    },
    {
     "data": {
      "text/plain": [
       "<ggplot: (-9223371935505209179)>"
      ]
     },
     "execution_count": 20,
     "metadata": {},
     "output_type": "execute_result"
    }
   ],
   "source": [
    "data2=df1\n",
    "data2[\"PercReturn_4_Weeks\"] = data2.Return_4_weeks / data2.Price_Date\n",
    "data2[\"PercReturn_26_Weeks\"] = data2.Return_26_weeks / data2.Price_Date\n",
    "data2[\"ReturnBin_4Weeks\"] = pd.qcut(data2[\"PercReturn_4_Weeks\"], 2,labels=range(2))\n",
    "data2[\"ReturnBin_26Weeks\"] = pd.qcut(data2[\"PercReturn_26_Weeks\"], 2,labels=range(2))\n",
    "referencedata=data2\n",
    "print(data2.shape)\n",
    "data2.head(2)\n",
    "import ggplot\n",
    "from ggplot import *\n",
    "ggplot(data2, aes(x='ReturnBin_4Weeks')) + \\\n",
    "    geom_histogram() "
   ]
  },
  {
   "cell_type": "code",
   "execution_count": 21,
   "metadata": {},
   "outputs": [
    {
     "name": "stdout",
     "output_type": "stream",
     "text": [
      "(996, 3)\n"
     ]
    },
    {
     "data": {
      "text/html": [
       "<div>\n",
       "<style>\n",
       "    .dataframe thead tr:only-child th {\n",
       "        text-align: right;\n",
       "    }\n",
       "\n",
       "    .dataframe thead th {\n",
       "        text-align: left;\n",
       "    }\n",
       "\n",
       "    .dataframe tbody tr th {\n",
       "        vertical-align: top;\n",
       "    }\n",
       "</style>\n",
       "<table border=\"1\" class=\"dataframe\">\n",
       "  <thead>\n",
       "    <tr style=\"text-align: right;\">\n",
       "      <th></th>\n",
       "      <th>fulltext</th>\n",
       "      <th>ReturnBin_4Weeks</th>\n",
       "      <th>ReturnBin_26Weeks</th>\n",
       "    </tr>\n",
       "  </thead>\n",
       "  <tbody>\n",
       "    <tr>\n",
       "      <th>131</th>\n",
       "      <td>ACAD.   . Overview We are a biopharmaceutical ...</td>\n",
       "      <td>0</td>\n",
       "      <td>0</td>\n",
       "    </tr>\n",
       "    <tr>\n",
       "      <th>133</th>\n",
       "      <td>ACAD.   . Company Overview We are a biopharmac...</td>\n",
       "      <td>1</td>\n",
       "      <td>1</td>\n",
       "    </tr>\n",
       "  </tbody>\n",
       "</table>\n",
       "</div>"
      ],
      "text/plain": [
       "                                              fulltext ReturnBin_4Weeks  \\\n",
       "131  ACAD.   . Overview We are a biopharmaceutical ...                0   \n",
       "133  ACAD.   . Company Overview We are a biopharmac...                1   \n",
       "\n",
       "    ReturnBin_26Weeks  \n",
       "131                 0  \n",
       "133                 1  "
      ]
     },
     "execution_count": 21,
     "metadata": {},
     "output_type": "execute_result"
    }
   ],
   "source": [
    "data2=data2.drop(['PercReturn_4_Weeks','Category',\n",
    "                    'Future_4_weeks','Future_26_weeks','Date','Price_4_weeks','Price_26_weeks',\n",
    "                    'Price_Date','PercReturn_26_Weeks','Return_4_weeks','Return_26_weeks'], axis=1)\n",
    "\n",
    "print(data2.shape)\n",
    "data2.head(2)"
   ]
  },
  {
   "cell_type": "code",
   "execution_count": 22,
   "metadata": {},
   "outputs": [],
   "source": [
    "with open('biotechsource2bin.pkl', 'wb') as f:\n",
    "    pickle.dump(data2, f)\n",
    "#df = pd.read_pickle(file_name)"
   ]
  },
  {
   "cell_type": "code",
   "execution_count": null,
   "metadata": {},
   "outputs": [],
   "source": []
  }
 ],
 "metadata": {
  "kernelspec": {
   "display_name": "Python 3",
   "language": "python",
   "name": "python3"
  },
  "language_info": {
   "codemirror_mode": {
    "name": "ipython",
    "version": 3
   },
   "file_extension": ".py",
   "mimetype": "text/x-python",
   "name": "python",
   "nbconvert_exporter": "python",
   "pygments_lexer": "ipython3",
   "version": "3.5.2"
  }
 },
 "nbformat": 4,
 "nbformat_minor": 2
}
