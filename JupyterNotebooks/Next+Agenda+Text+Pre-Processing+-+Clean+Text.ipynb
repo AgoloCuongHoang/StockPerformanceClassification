{
 "cells": [
  {
   "cell_type": "markdown",
   "metadata": {},
   "source": [
    "## 2) Text Cleaning"
   ]
  },
  {
   "cell_type": "code",
   "execution_count": 158,
   "metadata": {},
   "outputs": [
    {
     "name": "stdout",
     "output_type": "stream",
     "text": [
      "3.5.2 |Continuum Analytics, Inc.| (default, Jul  5 2016, 11:41:13) [MSC v.1900 64 bit (AMD64)]\n"
     ]
    }
   ],
   "source": [
    "import sys\n",
    "print(sys.version)"
   ]
  },
  {
   "cell_type": "code",
   "execution_count": 159,
   "metadata": {},
   "outputs": [],
   "source": [
    "# Use AzureML's data collector to log various metrics!\n",
    "#from azureml.logging import current_scriptrun\n",
    "#logger = current_scriptrun()\n",
    "\n",
    "import string, re\n",
    "import pandas as pd\n",
    "from nltk.corpus import stopwords\n",
    "from gensim import corpora, models, similarities\n",
    "import azureml\n",
    "from __future__ import division\n",
    "import numpy as np\n",
    "import nltk\n",
    "from nltk.corpus import stopwords\n",
    "from azure.storage.blob import BlockBlobService\n",
    "\n",
    "# import libraries\n",
    "from __future__ import print_function\n",
    "import numpy as np\n",
    "from six.moves import zip\n",
    "import json\n",
    "import warnings\n",
    "import pandas as pd\n",
    "from pandas import DataFrame   \n",
    "import pickle\n",
    "import re\n",
    "import sys \n",
    "import azureml\n",
    "import string\n",
    "from scipy import stats\n",
    "import pip\n",
    "import keras\n",
    "from keras.preprocessing.sequence import pad_sequences\n",
    "from keras.utils.np_utils import to_categorical\n",
    "from keras.preprocessing.text import Tokenizer     \n",
    "from keras.preprocessing import sequence\n",
    "import os\n",
    "import tempfile  \n",
    "import logging\n",
    "import gensim\n",
    "from gensim.models import Phrases, phrases\n",
    "from gensim.models.phrases import Phraser\n",
    "from gensim.models import Word2Vec as wv\n",
    "import nltk\n",
    "from nltk.corpus import stopwords\n",
    "from gensim import corpora, models, similarities\n",
    "from IPython.display import SVG\n",
    "import cloudpickle\n",
    "import csv\n",
    "import mkl\n",
    "import matplotlib.pyplot as plt\n",
    "import h5py\n",
    "from keras.models import load_model\n",
    "import re\n",
    "import io\n",
    "from os.path import dirname, join\n",
    "import regex"
   ]
  },
  {
   "cell_type": "markdown",
   "metadata": {},
   "source": [
    "Imprt source text and write to a pandas dataframe"
   ]
  },
  {
   "cell_type": "code",
   "execution_count": 160,
   "metadata": {},
   "outputs": [
    {
     "data": {
      "text/plain": [
       "'C:\\\\Users\\\\pattyry\\\\Documents\\\\AzureML\\\\NextAgenda_CodeStory\\\\NextAgenda_CodeStory'"
      ]
     },
     "execution_count": 160,
     "metadata": {},
     "output_type": "execute_result"
    }
   ],
   "source": [
    "import os\n",
    "os.getcwd()"
   ]
  },
  {
   "cell_type": "code",
   "execution_count": 161,
   "metadata": {},
   "outputs": [
    {
     "name": "stdout",
     "output_type": "stream",
     "text": [
      "Data unpickled\n",
      "(996, 3)\n"
     ]
    },
    {
     "data": {
      "text/html": [
       "<div>\n",
       "<style>\n",
       "    .dataframe thead tr:only-child th {\n",
       "        text-align: right;\n",
       "    }\n",
       "\n",
       "    .dataframe thead th {\n",
       "        text-align: left;\n",
       "    }\n",
       "\n",
       "    .dataframe tbody tr th {\n",
       "        vertical-align: top;\n",
       "    }\n",
       "</style>\n",
       "<table border=\"1\" class=\"dataframe\">\n",
       "  <thead>\n",
       "    <tr style=\"text-align: right;\">\n",
       "      <th></th>\n",
       "      <th>fulltext</th>\n",
       "      <th>ReturnBin_4Weeks</th>\n",
       "      <th>ReturnBin_26Weeks</th>\n",
       "    </tr>\n",
       "  </thead>\n",
       "  <tbody>\n",
       "    <tr>\n",
       "      <th>131</th>\n",
       "      <td>ACAD.   . Overview We are a biopharmaceutical ...</td>\n",
       "      <td>0</td>\n",
       "      <td>0</td>\n",
       "    </tr>\n",
       "    <tr>\n",
       "      <th>133</th>\n",
       "      <td>ACAD.   . Company Overview We are a biopharmac...</td>\n",
       "      <td>2</td>\n",
       "      <td>2</td>\n",
       "    </tr>\n",
       "  </tbody>\n",
       "</table>\n",
       "</div>"
      ],
      "text/plain": [
       "                                              fulltext ReturnBin_4Weeks  \\\n",
       "131  ACAD.   . Overview We are a biopharmaceutical ...                0   \n",
       "133  ACAD.   . Company Overview We are a biopharmac...                2   \n",
       "\n",
       "    ReturnBin_26Weeks  \n",
       "131                 0  \n",
       "133                 2  "
      ]
     },
     "execution_count": 161,
     "metadata": {},
     "output_type": "execute_result"
    }
   ],
   "source": [
    "import pickle\n",
    "with open('biotechsource.pkl', 'rb') as f:\n",
    "    data = pickle.load(f)\n",
    "    print(\"Data unpickled\")\n",
    "    import pandas as pd\n",
    "biotechdata = pd.DataFrame(data)\n",
    "\n",
    "print(biotechdata.shape)\n",
    "biotechdata.head(2)\n"
   ]
  },
  {
   "cell_type": "code",
   "execution_count": 162,
   "metadata": {},
   "outputs": [
    {
     "name": "stdout",
     "output_type": "stream",
     "text": [
      "Data unpickled\n",
      "(32233, 4)\n"
     ]
    },
    {
     "data": {
      "text/html": [
       "<div>\n",
       "<style>\n",
       "    .dataframe thead tr:only-child th {\n",
       "        text-align: right;\n",
       "    }\n",
       "\n",
       "    .dataframe thead th {\n",
       "        text-align: left;\n",
       "    }\n",
       "\n",
       "    .dataframe tbody tr th {\n",
       "        vertical-align: top;\n",
       "    }\n",
       "</style>\n",
       "<table border=\"1\" class=\"dataframe\">\n",
       "  <thead>\n",
       "    <tr style=\"text-align: right;\">\n",
       "      <th></th>\n",
       "      <th>Category</th>\n",
       "      <th>fulltext</th>\n",
       "      <th>ReturnBin_4Weeks</th>\n",
       "      <th>ReturnBin_26Weeks</th>\n",
       "    </tr>\n",
       "  </thead>\n",
       "  <tbody>\n",
       "    <tr>\n",
       "      <th>1</th>\n",
       "      <td>Major Airlines</td>\n",
       "      <td>AAL.   OverviewAmerican Airlines Group Inc. (A...</td>\n",
       "      <td>0</td>\n",
       "      <td>1</td>\n",
       "    </tr>\n",
       "    <tr>\n",
       "      <th>2</th>\n",
       "      <td>Major Airlines</td>\n",
       "      <td>AAL.   Chapter 11 ProceedingsOn November 29, 2...</td>\n",
       "      <td>2</td>\n",
       "      <td>2</td>\n",
       "    </tr>\n",
       "  </tbody>\n",
       "</table>\n",
       "</div>"
      ],
      "text/plain": [
       "         Category                                           fulltext  \\\n",
       "1  Major Airlines  AAL.   OverviewAmerican Airlines Group Inc. (A...   \n",
       "2  Major Airlines  AAL.   Chapter 11 ProceedingsOn November 29, 2...   \n",
       "\n",
       "  ReturnBin_4Weeks ReturnBin_26Weeks  \n",
       "1                0                 1  \n",
       "2                2                 2  "
      ]
     },
     "execution_count": 162,
     "metadata": {},
     "output_type": "execute_result"
    }
   ],
   "source": [
    "import pickle\n",
    "with open('allindustriessource.pkl', 'rb') as f:\n",
    "    data = pickle.load(f)\n",
    "    print(\"Data unpickled\")\n",
    "    import pandas as pd\n",
    "allindustriesdata = pd.DataFrame(data)\n",
    "\n",
    "print(allindustriesdata.shape)\n",
    "allindustriesdata.head(2)"
   ]
  },
  {
   "cell_type": "markdown",
   "metadata": {},
   "source": [
    "Review data"
   ]
  },
  {
   "cell_type": "code",
   "execution_count": 163,
   "metadata": {},
   "outputs": [
    {
     "data": {
      "image/png": "[encoded data removed]",
      "text/plain": [
       "<matplotlib.figure.Figure at 0x206f1655ef0>"
      ]
     },
     "metadata": {},
     "output_type": "display_data"
    },
    {
     "data": {
      "text/plain": [
       "<ggplot: (-9223371897552087643)>"
      ]
     },
     "execution_count": 163,
     "metadata": {},
     "output_type": "execute_result"
    }
   ],
   "source": [
    "import ggplot\n",
    "from ggplot import *\n",
    "ggplot(biotechdata, aes(x='ReturnBin_4Weeks')) + \\\n",
    "    geom_histogram() "
   ]
  },
  {
   "cell_type": "code",
   "execution_count": 164,
   "metadata": {},
   "outputs": [],
   "source": [
    "biotechdata.head(3)\n",
    "data = biotechdata"
   ]
  },
  {
   "cell_type": "markdown",
   "metadata": {},
   "source": [
    "Discard data not of interest"
   ]
  },
  {
   "cell_type": "code",
   "execution_count": 165,
   "metadata": {},
   "outputs": [
    {
     "name": "stdout",
     "output_type": "stream",
     "text": [
      "(996, 2)\n",
      "                                              fulltext ReturnBin_4Weeks\n",
      "131  ACAD.   . Overview We are a biopharmaceutical ...                0\n",
      "133  ACAD.   . Company Overview We are a biopharmac...                2\n"
     ]
    }
   ],
   "source": [
    "data1=data.drop(['ReturnBin_26Weeks'], axis=1)\n",
    "print(data1.shape)\n",
    "print(data1.head(2))\n",
    "#print(data1.dtypes)\n",
    "thedata = data1\n",
    "thedata['fulltext'] = thedata['fulltext'].str.encode('utf-8')\n",
    "thedata['fulltext'] = thedata['fulltext'].str.lower()"
   ]
  },
  {
   "cell_type": "markdown",
   "metadata": {},
   "source": [
    "Clean the text"
   ]
  },
  {
   "cell_type": "code",
   "execution_count": 166,
   "metadata": {},
   "outputs": [],
   "source": [
    "\n",
    "##########################################\n",
    "# clean up the text in the data with regex\n",
    "##########################################\n",
    "\n",
    "\n",
    "def clean_text(row):\n",
    "    text = str(row['fulltext'])\n",
    "\n",
    "    # Remove newline characters\n",
    "    cleantext = text.replace('\\r\\n', ' ')\n",
    "\n",
    "    # Convert HTML punctuation chaaracters\n",
    "    cleantext = cleantext.replace('.', '')\n",
    "    cleantext = cleantext.replace(',', '')\n",
    "    cleantext = cleantext.replace('!', '')\n",
    "    cleantext = cleantext.replace('$;', '')\n",
    "    cleantext = cleantext.replace(';', '')\n",
    "    cleantext = cleantext.replace(')', '')\n",
    "    cleantext = cleantext.replace('(', '') \n",
    "    cleantext = cleantext.replace('', '')   \n",
    "    cleantext = cleantext.replace('>', '')  \n",
    "    cleantext = cleantext.replace('<', '')  \n",
    "    cleantext = cleantext.replace(' the ', ' ')  \n",
    "    cleantext = cleantext.replace(' of ', ' ')   \n",
    "    cleantext = cleantext.replace(' in ', ' ')  \n",
    "    cleantext = cleantext.replace(' and ', ' ')  \n",
    "    cleantext = cleantext.replace(' by ', ' ')  \n",
    "    cleantext = cleantext.replace(' to ', ' ')  \n",
    "    cleantext = cleantext.replace(' at ', ' ')  \n",
    "    cleantext = cleantext.replace(' on ', ' ') \n",
    "    cleantext = cleantext.replace(' for ', ' ')  \n",
    "    cleantext = cleantext.replace(' be ', ' ')  \n",
    "    cleantext = cleantext.replace('phase i', 'phasei')  \n",
    "    cleantext = cleantext.replace('phase ii', 'phaseii')  \n",
    "    cleantext = cleantext.replace('phase iii', 'phaseiii')  \n",
    "    cleantext = cleantext.replace('phase iv', 'phaseiv')  \n",
    "    cleantext = cleantext.replace('clinical trial', 'clinicaltrial')  \n",
    "    cleantext = cleantext.replace(' is ', ' ')    \n",
    "    cleantext = cleantext.replace(' or ', ' ')   \n",
    "    cleantext = cleantext.replace(' we ', ' ')   \n",
    "    cleantext = cleantext.replace(' that ', ' ')   \n",
    "    cleantext = cleantext.replace(' our ', ' ')   \n",
    "    cleantext = cleantext.replace(' as ', ' ')       \n",
    "    cleantext = cleantext.replace(' under ', ' ')   \n",
    "    cleantext = cleantext.replace(' from ', ' ')   \n",
    "    cleantext = cleantext.replace(' are ', ' ')   \n",
    "    cleantext = cleantext.replace(' with ', ' ')   \n",
    "    cleantext = cleantext.replace(' us ', ' ')   \n",
    "    cleantext = cleantext.replace(' was ', ' ')   \n",
    "    cleantext = cleantext.replace(' have ', ' ')       \n",
    "    cleantext = cleantext.replace(' this ', ' ')   \n",
    "    cleantext = cleantext.replace(' are ', ' ')   \n",
    "    cleantext = cleantext.replace(' an ', ' ')   \n",
    "    cleantext = cleantext.replace(' other ', ' ')   \n",
    "    cleantext = cleantext.replace(' if ', ' ')       \n",
    "    cleantext = cleantext.replace(' any ', ' ')   \n",
    "    cleantext = cleantext.replace(' which ', ' ')       \n",
    "    cleantext = cleantext.replace(' may ', ' ')  \n",
    "    cleantext = cleantext.replace(' its ', ' ')       \n",
    "    cleantext = cleantext.replace(' certain ', ' ')   \n",
    "    cleantext = cleantext.replace(' including ', ' ')       \n",
    "    cleantext = cleantext.replace(' these ', ' ')    \n",
    "    cleantext = cleantext.replace(' those ', ' ')  \n",
    "    cleantext = cleantext.replace(' not ', ' ')   \n",
    "    cleantext = cleantext.replace(' such ', ' ')       \n",
    "    cleantext = cleantext.replace(' them ', ' ')    \n",
    "\n",
    "    #remove non alpha characters and specific noise\n",
    "    cleantext = re.sub(r'\\d+', '',cleantext)\n",
    "    cleantext = re.sub(r'^b','',cleantext)\n",
    "    cleantext = re.sub(r'[^\\w]',' ',cleantext)\n",
    "    cleantext = cleantext.replace('xc xs', '')  \n",
    "    cleantext = cleantext.replace('xe xs', '')  \n",
    "    cleantext = cleantext.replace('xc xS', '')  \n",
    "    cleantext = cleantext.replace('xe xS', '')  \n",
    "    cleantext = cleantext.replace('xc xa', '')  \n",
    "    cleantext = cleantext.replace('xe xa', '')  \n",
    "    cleantext = cleantext.replace(' xc xc x', '')  \n",
    "    cleantext = cleantext.replace(' xc', '')  \n",
    "    cleantext = cleantext.replace(' xe', '')  \n",
    "    cleantext = cleantext.replace(' xs', '')  \n",
    "\n",
    "    #remove specific noise\n",
    "    cleantext = cleantext.translate(str.maketrans({'‘':' ','’':' '}))\n",
    "    cleantext = cleantext.translate(str.maketrans({',':'',',':''}))\n",
    "    cleantext = cleantext.translate(str.maketrans({'[':'',']':''}))\n",
    "    cleantext = cleantext.translate(str.maketrans({'\"':'','%':''}))\n",
    "    cleantext = cleantext.translate(str.maketrans({'^':'','*':''}))\n",
    "\n",
    "    #remove punctuation\n",
    "    punctpattern = re.compile('[%s]' % re.escape(string.punctuation))\n",
    "    cleanttext = re.sub(punctpattern,'', cleantext)\n",
    "\n",
    "    #remove single letter word\n",
    "    cleantext = re.sub('(\\\\b[A-Za-z] \\\\b|\\\\b [A-Za-z]\\\\b)', '', cleantext) \n",
    "\n",
    "    # Remove extra spaces\n",
    "    cleantext = re.sub('\\s+', ' ', cleantext).strip()\n",
    "\n",
    "    return cleantext\n",
    "\n"
   ]
  },
  {
   "cell_type": "code",
   "execution_count": 173,
   "metadata": {},
   "outputs": [],
   "source": [
    "#apply text fixes to the input text column\n",
    "thedata['CleanText'] = thedata.apply(clean_text, axis=1)\n",
    "justcleandocs=thedata.drop(['fulltext'], axis=1)\n",
    "justcleandocs.head(2)\n",
    "\n",
    "data.rename(columns={'ReturnBin_4Weeks':'Return3Bin_4Weeks'}, inplace=True)\n",
    "data.rename(columns={'fulltext':'CleanText'}, inplace=True)"
   ]
  },
  {
   "cell_type": "code",
   "execution_count": 174,
   "metadata": {},
   "outputs": [],
   "source": [
    "with open('biotechcleaned.pkl', 'wb') as f:\n",
    "    pickle.dump(justcleandocs, f)\n",
    "#df = pd.read_pickle(file_name)"
   ]
  },
  {
   "cell_type": "code",
   "execution_count": 175,
   "metadata": {},
   "outputs": [],
   "source": [
    "#save a cleaned copy to inspect\n",
    "justcleandocs.to_csv('cleandata.tsv', sep='\\t', encoding='utf-8')\n"
   ]
  },
  {
   "cell_type": "code",
   "execution_count": 176,
   "metadata": {},
   "outputs": [],
   "source": [
    "documents = justcleandocs['CleanText'].values"
   ]
  },
  {
   "cell_type": "code",
   "execution_count": 177,
   "metadata": {},
   "outputs": [
    {
     "data": {
      "text/plain": [
       "996"
      ]
     },
     "execution_count": 177,
     "metadata": {},
     "output_type": "execute_result"
    }
   ],
   "source": [
    "len(documents)"
   ]
  },
  {
   "cell_type": "code",
   "execution_count": 178,
   "metadata": {},
   "outputs": [
    {
     "data": {
      "text/plain": [
       "'acad overview biopharmaceutical company focused discovery development commercialization small molecule drugs treatment central nervous system disorders currently six clinical programs several additional programs discovery development most advanced program conducting phaseiii studies pimavanserin treatment parkinson disease psychosis reported positive results phaseii trial program pimavanserin co therapy schizophrenia also completed enrollment phaseiib trial program acp stand alone treatment schizophrenia addition completed proof of concept clinical study pimavanserin treatment sleep maintenance insomnia healthy older adults retained worldwide commercialization rights programs pimavanserin acp additionally neuropathic pain program phaseii development glaucoma program phasei studies collaboration allergan inc all drug candidates product pipeline emanate discoveries made using proprietary drug discovery platform pipeline addresses diseases well served currently available therapies represent large potential commercial opportunities believe drug candidates offer innovative therapeutic approaches provide significant advantages relative current therapies clinical programs consist following pimavanserin treatment parkinson disease psychosis parkinson disease psychosis debilitating psychiatric disorder occurs up percent patients parkinson disease associated increased caregiver burden nursing home placement increased mortality currently there table contents no therapies approved treat parkinson disease psychosis united states believe pimavanserin effectively treat psychosis patients parkinson disease while allowing optimal motor control thereby significantly improving quality life patients currently conducting first pivotal trial preparing initiate second pivotal trial phaseiii program pimavanserin co therapy schizophrenia current drugs used treat schizophrenia substantial limitations inadequate efficacy severe side effects believe co therapy pimavanserin result enhanced efficacy fewer side effects relative existing treatments thereby providing improved therapy patients schizophrenia reported positive results phaseii trial demonstrated several advantages co therapy pimavanserin sub maximal dose risperidone commonly prescribed antipsychotic drug enhanced efficacy faster onset antipsychotic action improved side effect profile acp treatment schizophrenia currently prescribed treatments do effectively address exacerbate cognitive disturbances associated schizophrenia believe acp represents promising new approach schizophrenia therapy combines potential superior atypical antipsychotic efficacy profile enhanced cognition completed enrollment phaseiib clinicaltrial designed evaluate safety efficacy acp patients schizophrenia expect report top line results trial second quarter pimavanserin treatment sleep maintenance insomnia frequent awakenings difficulty returning sleep common sleep disturbances older adults patients neurological psychiatric disorders believe pimavanserin provides opportunity treat symptoms sleep maintenance insomnia without inducing sleep impairing daytime functioning completed proof of concept clinical study demonstrated pimavanserin induced statistically significant dose related increase deep slow wave sleep healthy older adults neuropathic pain discovered new class compounds collaboration allergan believe represent significant breakthrough treatment neuropathic pain allergan currently conducting phaseii development program glaucoma discovered collaboration allergan developing small molecule drug candidate treatment glaucoma allergan conducting phasei testing program built integrated drug discovery platform use rapidly discover new compounds serve potential treatments significant unmet medical needs proprietary technologies include target based chemistry based technologies integrate discovery development capabilities believe breadth discovery development programs rapid pace discovered drug candidates provide strong validation proprietary platform basis expanding pipeline assembled management team significant industry experience lead discovery development commercialization drug candidates members management team contributed discovery development approval multiple drug candidates complement management team network scientific clinical advisors includes recognized experts fields schizophrenia parkinson disease central nervous system disorders were originally incorporated vermont receptor technologies inc reincorporated delaware cadia xr sat registered trademarks logos trademarks property acadia pharmaceuticals inc all brand names trademarks appearing report property their respective holders use display parties trademarks trade dress products report intended does imply relationship endorsements sponsorship trademark trade dress owners table contents maintain website wwwacadia pharmcom make available free charge website periodic current reports soon reasonably practicable after reports filed securities exchange commission sec information contained accessible through website part report filings sec strategy goal become leader discovery development commercialization novel small molecule drugs treatment central nervous system disorders areas unmet medical need key elements strategy to develop commercialize lead drug candidates focused advancing development lead clinical programs pimavanserin acp intend complete development phaseiii program pimavanserin treatment parkinson disease psychosis successful participate commercialization pimavanserin indication united states also intend continue advance programs each pimavanserin acp treatment schizophrenia through clinical development commercialization through collaboration partners selectively establish strategic collaborations advance maximize commercial potential pipeline will continue pursue strategic collaborations leverage development commercialization expertise partners therapeutic areas schizophrenia involve more extensive development program address large primary care markets intend complete late stage clinical development commercialization drug candidates through collaboration partners plan retain selected commercialization rights products areas where feel they can sold specialty sales force calls focused group physicians expand pipeline drug candidates treatment central nervous system related disorders plan continue using drug discovery platform expertise expand pipeline drug candidates treatment central nervous system related disorders believe disorders represent significant market opportunities believe diversified pipeline programs will mitigate risks inherent drug discovery development increase likelihood commercial success maintain technology leadership position continue build development capabilities believe leader discovery small molecule drugs central nervous system disorders intend continue maintain proprietary discovery technologies capabilities also intend continue expand development capabilities drug candidates advance clinical development leverage proprietary drug discovery platform outside core focus addition focus central nervous system disorders leveraging proprietary drug discovery platform identify novel drug candidates therapeutic areas outside core focus develop partnerships independently opportunistically in license acquire complementary technologies drug candidates although all drug candidates currently pipeline emanate discoveries made using proprietary platform future elect in license acquire complementary technologies augment internal pipeline drug candidates products table contents programs pipeline includes six clinical programs two ind track development programs where selected drug candidate development seeking complete required testing preparation future clinicaltrials four preclinical programs where yet selected drug candidate development programs address diseases well served currently available therapies represent large potential commercial market opportunities believe drug candidates offer innovative therapeutic approaches provide significant advantages relative current therapies following table summarizes programs program stage development commercialization rights pimavanserin parkinson disease psychosis phaseiii acadia pimavanserin co therapy schizophrenia phaseii acadia acp schizophrenia phaseii acadia pimavanserin sleep maintenance insomnia phaseii acadia agn xx agn yy neuropathic pain phaseii allergan ac glaucoma phasei allergan acp endocrine indications ind track development acadia acp neuropsychiatry sleep indications ind track development acadia serotonin program neuropsychiatry sleep indications preclinical acadia pro cognitive antipsychotic pcap program schizophrenia preclinical acadia muscarinic program neuropsychiatry indications preclinical acadia cannabinoid cb program obesity preclinical acadia clinical programs parkinson disease psychosis disease market overview parkinson disease chronic progressive neurological disorder results degeneration neurons region brain controls movement degeneration creates shortage important brain signaling chemical neurotransmitter known dopamine rendering patients unable initiate their movements normal manner parkinson disease characterized number symptoms tremors limb stiffness slowness movements difficulties posture balance severity parkinson disease symptoms tends worsen over time table contents according national parkinson foundation over million people united states suffer disease parkinson disease more prevalent people over years age incidence disease expected increase average age population increases parkinson disease patients currently treated dopamine replacement therapies levodopa commonly referred dopa metabolized dopamine dopamine agonists molecules mimic action dopamine therapies relatively effective controlling symptoms disease most patients use agents normally required throughout course disease studies suggested up percent patients parkinson disease will develop psychotic symptoms commonly consisting visual hallucinations delusions development psychosis patients parkinson disease often disrupts their ability perform many activities daily living keeps independent active result parkinson disease psychosis associated increased caregiver burden nursing home placement increased mortality food drug administration fda has approved therapy parkinson disease psychosis physicians attempt address disorder initially decreasing dose dopamine replacement drugs administered patients manage motoric symptoms parkinson disease however approach generally effective alleviating psychotic symptoms most patients often associated significant worsening motor function patients despite substantial limitations currently marketed antipsychotic drugs seroquel also used off label treat patients parkinson disease psychosis because antipsychotic agents worsen preexisting brain dopamine deficit drugs generally well tolerated patients parkinson disease doses required achieve antipsychotic effects one antipsychotic therapy has demonstrated efficacy reducing psychosis patients parkinson disease without further impairing motor function low dose treatment generic drug clozapine studies suggest unique clinical utility clozapine arises potent blocking key serotonin receptor protein responds neurotransmitter serotonin known hta receptor use low dose clozapine has been approved europe treatment psychotic disorders parkinson disease however patients being treated clozapine require frequent blood monitoring because clozapine associated occurrence rare blood disorder leading complete loss blood cells known agranulocytosis currently there large unmet medical need new therapies will effectively treat psychosis patients parkinson disease without impairing motor function pimavanerin treatment parkinson disease psychosis overview pimavanserin small molecule drug candidate discovered developing treat patients parkinson disease psychosis pimavanserin can taken orally novel potent selective hta inverse agonist meaning it blocks activity hta receptor believe pimavanserin effectively treat parkinson disease psychosis without impairing motor function thereby significantly improving quality life patients parkinson disease development status currently conducting first pivotal trial phaseiii development program pimavanserin parkinson disease psychosis multi center double blind placebo controlled phaseiii trial designed evaluate safety efficacy pimavanserin approximately patients patients trial randomized three different study arms include two different doses pimavanserin one placebo arm patients receive oral doses either pimavanserin placebo once daily six weeks addition stable doses their existing dopamine replacement therapy primary endpoint trial antipsychotic efficacy table contents measured using scale assessment positive symptoms saps motoric tolerability important secondary endpoint trial measured using uniform parkinson disease rating scale updrs also preparing initiate second pivotal trial phaseiii program pimavanserin parkinson disease psychosis study will similar size duration nature first pivotal trial addition two pivotal trials currently conducting open label extension study pursuant patients who completed either pivotal trials will opportunity enroll opinion physician patient benefit continued treatment pimavanserin announced top line results multi center double blind placebo controlled phaseii clinicaltrial designed evaluate efficacy safety tolerability pimavanserin patients parkinson disease psychosis trial met primary endpoint demonstrate administration pimavanserin did result deterioration motoric function patients measured updrs pimavanserin also showed antipsychotic effects secondary endpoints using two different rating scales saps pimavanserin safe well tolerated study connection phaseii trial continue conduct open label extension study pursuant patients parkinson disease psychosis been treated pimavanserin least one year whom been treated least two years schizophrenia disease market overview schizophrenia chronic debilitating mental illness characterized disturbances thinking emotional reaction behavior disturbances include positive symptoms hallucinations delusions range negative symptoms loss interest emotional withdrawal cognitive disturbances schizophrenia associated persistent impairment patient social functioning productivity it believed cognitive disturbances prevent patients schizophrenia readjusting society result patients schizophrenia normally required medical care their entire lives according national institute mental health nimh approximately one percent population develops schizophrenia during their lifetime more than two million people united states suffer disease worldwide sales drugs used treat schizophrenia psychoses approached billion despite their commercial success current drugs used treat schizophrenia substantial limitations inadequate efficacy severe side effects first generation typical antipsychotics were introduced late block dopamine receptors while drugs effective against positive symptoms schizophrenia many patients they also induce disabling motor disturbances akathisia extremely distressful condition characterized feelings inner restlessness urge move typical antipsychotics fail address worsen most negative symptoms schizophrenia their use has decreased united states europe most schizophrenia patients united states today treated second generation atypical antipsychotics induce fewer motor disturbances than typical antipsychotic agents but still fail address most negative symptoms schizophrenia addition currently prescribed treatments do effectively address exacerbate cognitive disturbances associated schizophrenia clozapine more so than atypical antipsychotics appears ability partially address cognitive disturbances some patients it believed efficacy atypical antipsychotics due their interactions dopamine hta receptors side effects induced atypical agents include weight gain non insulin dependent type ii diabetes cardiovascular side effects motor disturbances akathisia believe side effects arise either non essential receptor interactions excessive dopamine blockade table contents limitations currently available antipsychotics result poor patient compliance study conducted nimh published new england journal medicine september found percent patients taking typical atypical antipsychotics discontinued treatment within months because side effects lack efficacy believe there large unmet medical need new therapies broadened efficacy profile extends beyond positive symptoms effects negative symptoms cognitive deficits induce fewer side effects two development programs believe offer innovative therapeutic solutions major unmet medical needs schizophrenia pimavanserin co therapy schizophrenia overview developing pimavanserin co therapy used together antipsychotic drugs treat schizophrenia believe co therapy pimavanserin result enhanced efficacy fewer side effects relative existing treatments thereby providing improved therapy patients schizophrenia related psychiatric disorders pimavanserin can taken orally novel potent selective hta inverse agonist adding pimavanserin low dose antipsychotic drug believe optimal relationship between hta blockade partial dopamine receptor blockade can achieved range existing antipsychotic drugs development status reported positive results multi center double blind placebo controlled phaseii clinicaltrial designed evaluate ability pimavanserin when used co therapy together low doses either risperidone atypical antipsychotic drug haloperidol typical antipsychotic drug treat patients schizophrenia enrolled total patients schizophrenia phaseii trial results trial demonstrated several advantages co therapy pimavanserin sub maximal dose risperidone advantages included enhanced efficacy comparable efficacy high dose risperidone plus placebo faster onset antipsychotic action improved side effect profile less weight gain also completed two earlier clinicaltrials program pimavanserin co therapy schizophrenia reported top line results double blind placebo controlled phaseii clinicaltrial designed evaluate ability pimavanserin treat haloperidol induced akathisia patients schizophrenia reported results clinical study designed assess ability pimavanserin reduce side effects associated drug treatment haloperidol healthy volunteers acp stand alone treatment schizophrenia overview acp small molecule drug candidate developing stand alone treatment patients schizophrenia believe acp provide effective antipsychotic therapy added advantage improving cognitive function patients schizophrenia it known large amounts acp desmethylclozapine formed body after administration clozapine clozapine metabolized acp discovered acp has unique ability stimulate muscarinic receptors widely known play important role cognition since clozapine itself blocks muscarinic receptor patients need extensively metabolize clozapine into acp stimulate receptor thereby overcome blocking action clozapine like clozapine acp also interacts hta dopamine receptors research indicates acp partial agonist causes weak activation dopamine receptors whereas clozapine most antipsychotic drugs block dopamine receptors partial agonist properties acp lead less motoric side effects than seen most antipsychotic drugs table contents development status completed enrollment multi center double blind placebo controlled phaseiib trial designed evaluate safety efficacy acp patients schizophrenia who experiencing acute psychotic episode total patients were enrolled trial patients were randomized one three study arms included two different doses acp one placebo arm six weeks primary endpoint trial antipsychotic efficacy measured using positive negative syndrome scale panss industry standard rating scale commonly used schizophrenia trials expect report top line results trial during second quarter completed four initial studies acp involving total patients schizophrenia studies included single ascending dose study day multiple ascending dose study single dose positron emission tomography pet study food effect study results studies demonstrated acp well tolerated initial signals antipsychotic effects indicated clinically meaningful reductions panss scores were observed within tolerated dose range acp no food effect observed also analyzed data clozapine acp plasma levels relative clinical response two clinicaltrials included patients schizophrenia treated clozapine up six months demonstrated analysis plasma drug ratio acp clozapine positively predicts improvement cognitive functioning quality of life parameters patients analysis indicated higher ratio acp relative clozapine resulted better response patients wide range standard cognitive functioning quality life clinical measures results analysis preclinical tests suggest due ability stimulate muscarinic receptors acp responsible cognitive benefits clozapine sleep maintenance insomnia disease market overview chronic insomnia sleep disorder lasting month more estimated affect about percent adult population significant portion insomnia patients complain frequent awakenings during night difficulty returning sleep referred sleep maintenance insomnia patients sleep maintenance insomnia experience number problems lack energy difficulty concentrating irritability impairment daytime functioning prevalence sleep disorders appears increase advancing age particular slow wave sleep deepest most restorative sleep normally decreases age contribute increase sleep maintenance insomnia there also increased incidence sleep maintenance insomnia patients neurological psychiatric disorders sales prescription drugs used treat insomnia major markets were estimated approximately billion most currently marketed therapies insomnia sedatives designed primarily address sleep onset limitations treating symptoms sleep maintenance insomnia most therapies work interacting gamma aminobutyric acid gaba receptors brain associated side effects risk developing tolerance drug potential causing lethargy upon awakening referred hangover effect addition drugs work activating gaba receptors designated drug enforcement administration controlled substances due their potential abuse believe there large unmet medical need new therapies can treat symptoms sleep maintenance insomnia without impairing daytime functioning pimavanserin sleep maintenance insomnia overview believe pimavanserin hta inverse agonists generated serotonin program provide sleep maintenance insomnia patients novel type sleep therapy without limitations most current sleep inducing agents table contents development status announced positive top line results proof of concept clinical study designed assess effect pimavanserin slow wave sleep healthy volunteers ranging age results study demonstrated pimavanserin induced statistically significant dose related increase slow wave sleep addition pimavanserin had positive impact measures sleep maintenance decreases number awakenings after sleep onset time awake after sleep onset referred waso pimavanserin also did alter latency sleep onset did impair daytime functioning pimavanserin safe well tolerated study neuropathic pain disease market overview neuropathic pain common form pain thought involve alteration nervous system function reorganization nervous system structure neuropathic pain can associated nerve damage caused trauma diseases diabetes shingles irritable bowel syndrome late stage cancer toxic effects chemotherapy many patients damage sensory nerves accompanied varying degrees pain experience can range mildly increased sensitivity touch temperature excruciating pain kind pain extremely difficult manage clinically because it fails respond most medications currently used treat forms pain according pharmaprojects healthcare publication each year approximately million people worldwide suffer some form neuropathic pain drugs opioid painkillers non steroidal anti inflammatory agents effective treating inflammatory acute pain usually effective treating neuropathic pain opioid painkillers also significant adverse side effects limit their usefulness respiratory depression nausea vomiting dizziness sedation mental clouding constipation urinary retention severe itching addition prolonged chronic use opioid painkillers can lead need increasing dosage potentially addiction neurontin first product approved fda treatment neuropathic pain now generic currently leading drugs approved neuropathic pain indications include lyrica successor neurontin cymbalta lyrica had worldwide sales billion cymbalta indicated treatment diabetic peripheral neuropathic pain well treatment major depressive disorder had worldwide sales billion believe there large unmet medical need new therapies improved efficacy side effect profiles drug candidates neuropathic pain collaboration allergan discovered developing new class small molecule drug candidates believe provide potential significant breakthrough treatment neuropathic pain using proprietary drug discovery platform identified previously unappreciated target neuropathic pain alpha adrenergic receptor discovered developing orally active small molecule drug candidates selectively activate target novel alpha adrenergic agonists provide highly effective pain relief wide range preclinical models without side effects current pain therapies sedation cardiovascular respiratory effects allergan has demonstrated drug candidates highly potent efficacious when administered orally relevant animal models more efficacious than neurontin preclinical models approximately fold lower doses allergan currently conducting phaseii development program glaucoma disease market overview glaucoma eye disease left untreated can lead degeneration optic nerve blindness glaucoma leading cause blindness united states prevalent symptom glaucoma increased fluid pressure within eye intraocular pressure currently physicians treat glaucoma multiple classes therapeutics optimize therapy minimize side effects table contents ac treatment glaucoma discovered collaboration allergan developing ac small molecule drug candidate treatment glaucoma using proprietary drug discovery platform identified subtype muscarinic receptors controls intraocular pressure discovered lead compounds selectively activate target primate model glaucoma ac demonstrated efficacy long duration action allergan conducting phasei studies ac ind track development preclinical programs addition clinical programs two programs ind track development where selected drug candidate development seeking complete required development testing preparation future clinicaltrials also four programs preclinical testing where yet selected drug candidate development following summarizes ind track development preclinical programs acp treatment endocrine indications discovered developing acp non steroidal selective androgen receptor agonist acp part class molecules referred selective androgen receptor modulators sarms sarms advance standard treatment variety disorders muscle wasting conditions osteoporosis fewer side effects compared current treatments based testosterone replacement acp has exhibited promising pharmacological properties favorable safety profile preclinical testing addition acp has reversed endocrine bone related markers testosterone deficiency preclinical animal testing unlike testosterone acp had little effect prostate thereby demonstrating tissue specificity actions initiated development acp intend seek partner advance further development program acp neuropsychiatry sleep indications serotonin preclinical program used serotonin program generate new drug candidates treat neuropsychiatric related central nervous system disturbances well sleep maintenance insomnia discovered pimavanserin potent selective hta inverse agonist program addition pimavanserin discovered large number compounds having diverse pharmacological chemical pharmaceutical properties interact hta receptor novel hta inverse agonists serve back up follow on molecules pimavanserin nominated acp potent selective hta inverse agonist clinical candidate acp belongs class molecules structurally different than pimavanserin initiated development acp intend complete required testing preparation potential clinicaltrials believe acp compounds serotonin preclinical program provide strong foundation enable more broadly pursue range potential therapeutic indications suitable mechanism action pcap preclinical program discovered series novel lead compounds provide potential new class pro cognitive antipsychotic drugs compounds differ structurally acp but like acp they combine muscarinic agonism actions both dopamine serotonin receptors novel compounds demonstrate robust effects animal models psychosis pro cognitive effects preclinical models cognition currently seeking identify clinical candidate further development program table contents muscarinic preclinical program muscarinic program designed deliver new drug candidates treat psychosis cognitive disturbances patients schizophrenia dementia neuropathic pain indications identified novel sites muscarinic receptor drug interactions yield selective muscarinic agonists compounds shown side effects typical non selective muscarinic agents but show robust effects animal models psychosis cognition neuropathic pain program includes muscarinic agonists selectively target muscarinic receptor represent novel approach treatment cognition patients schizophrenia discovered over potent muscarinic agonists selectively target muscarinic receptor muscarinic agonist compounds inhibit behaviors associated psychotic states enhance cognitive function preclinical models cannabinoid cb preclinical program discovered structurally novel lead compounds potently selectively block cannabinoid cb receptor cb receptor predominantly expressed central nervous system has key role regulating appetite reward based behaviors blockade cb receptors lead novel treatments obesity substance abuse cb receptor antagonists also useful treatment disorders associated cognitive deficits discovered proprietary compounds potent selective cb receptor active following oral dosing preclinical animal models well tolerated high doses drug discovery platform capabilities overview established drug discovery technical expertise areas molecular biology ultra high throughput screening molecular behavioral pharmacology combinatorial medicinal analytical chemistry integrated discovery development capabilities proprietary technologies seamless fashion addition collaborate world renowned scientists clinicians academic institutions believe expertise combined proprietary drug discovery platform has allowed discover drug candidates more efficiently than traditional approaches all drug candidates currently clinicaltrials earlier stages discovery development emanate discoveries made using proprietary drug discovery platform demonstrated platform can used rapidly identify drug like small molecule chemistries wide range drug targets believe breadth discovery development programs rapid pace discovered drug candidates provide strong validation proprietary platform basis expanding pipeline drug discovery approach drug discovery approach designed introduce chemistry early stage drug discovery process enable selection most attractive drug like chemistries desired targets validate past clinical experience key discovery approach set proprietary functional test systems assays developed focused members three important gene families protein coupled receptors gpcrs nuclear receptors nrs tyrosine kinase linked receptors rtks believe gene families represent most relevant feasible targets small molecule drug discovery use proprietary assays validate drug targets discover novel small molecule drug candidates specific targets using two complementary approaches table contents first approach validate potential drug targets profile collection reference drugs primarily consisting currently formerly marketed central nervous system drugs over range targets functional assays link clinical physiological effects drugs specific drug targets using reference drug approach able identify key drug targets validated past clinical experience well targets believe responsible various side effects drugs discoveries pimavanserin acp resulted successful application reference drug approach second approach broadly screen number targets most attractive small molecule chemistries chemistries prioritized used starting points drug discovery programs using approach discovered one target specific chemistries demonstrated activity preclinical models neuropathic pain providing starting point collaborative neuropathic pain clinical program similarly one selective muscarinic agonists active glaucoma model without showing classical side effects providing starting point collaborative glaucoma development program key components drug discovery platform key components drug discovery platform discussed below target based discovery technologies overview human genome project has provided information about genetic structure essentially all potential drug targets human genome knowledge when combined proprietary technologies allows efficient testing effects chemical compounds wide range potential drug targets within human genome there families genes include most frequent targets drugs focus drug discovery efforts families targets most likely affected small molecule drugs sat functional assay technologies proprietary receptor selection amplification technology refer sat valuable component drug discovery platform sat cell based assay system where genes transferred cultured cells functional activity gene products potential drug targets then evaluated through signal transduction pathways lead cellular growth growth signals reported using marker gene technologies thus effects drugs potential drug targets can efficiently detected changes color fluorescence sat enables efficient screening large compound libraries identification new chemistries given targets well detailed pharmacological testing compounds wide range targets addition sat developed proprietary tools evaluate compound interaction targets one technologies measures physical interaction gpcrs rtks signaling proteins proprietary receptor assay platforms scientists cloned genes majority targets protein coupled receptor nuclear receptor tyrosine kinsase gene families represent some largest families genes targeted known drugs sat assay system has enabled building functional assays large number genes also developed assays several additional targets relevant gene families chemistry based discovery technologies drug discovery approach aims identify small molecules can serve chemical starting points leads optimization efforts providing novel potent selective drug candidates targets most likely affected small molecule drugs enable screening operation identify high quality leads table contents assembled large proprietary chemical library diverse compounds diverse compound library consists about small organic molecules also developed proprietary synthetic methods library construction lead optimization addition reference drug library provides opportunity validate targets another key component drug discovery platform reference drug library includes wide range known central nervous system active drugs drug discovery opportunities proprietary drug discovery platform has generated range novel chemistries believe will continue provide starting points additional programs using target specific chemistries established portfolio proprietary drug discovery assets projects multiple therapeutic areas each areas identified novel chemistries different drug targets believe play important role major diseases discovery projects aim answer specific scientific questions using relatively limited synthetic chemistry biological efforts when all key criteria been fulfilled earlier stage discovery projects advanced into preclinical programs collaboration agreements established three separate collaboration agreements allergan technology license agreement aventis leverage drug discovery platform related assets commercialize selected drug candidates collaborations included upfront payments initiation collaboration form equity investment research support during term milestone payments upon successful completion specified development objectives royalties based upon sales drugs developed collaboration current agreements follows allergan march entered into collaboration agreement allergan discover develop commercialize new therapeutics ophthalmic indications agreement originally provided three year research term has been extended parties through march december had received aggregate million agreement consisting upfront payment research funding related fees during extended research term allergan entitled exclusively license specified chemistry related assets development commercialization grant allergan exclusive license would eligible receive license fees milestone payments upon successful achievement agreed upon clinical regulatory objectives well royalties future product sales worldwide assuming license successful development product area eye care could receive up approximately million aggregate license fees milestone payments per product agreement excluding product royalties july entered into collaboration agreement allergan discover develop commercialize selective muscarinic drugs treatment glaucoma based compounds agreement provided chemistry discovery expertise enable allergan select compound development granted allergan exclusive worldwide rights commercialize products based compound treatment ocular disease program currently phasei testing december had received aggregate million payments agreement consisting upfront fees research funding milestone payments eligible receive additional milestone payments up million aggregate well royalties future product sales worldwide allergan terminate agreement upon days notice however terminated allergan rights selected compound would revert september entered into collaboration agreement allergan focused primarily discovery development new therapeutics neuropathic pain program currently phaseii testing ophthalmic indications agreement amended conjunction execution table contents subsequent amendments march collaboration agreement provides continued development drug candidates one target area restricted conducting competing research target area pursuant agreement granted allergan exclusive worldwide rights commercialize products resulting collaboration had received aggregate million research funding milestone payments through december eligible receive additional milestone payments up million aggregate well royalties future product sales worldwide connection execution collaboration agreement allergan made million equity investment general terms collaboration agreements allergan continue until later expiration last expire patent covering drug candidate licensed collaboration least years date first commercial sale drug candidate addition each allergan collaboration agreements includes research term shorter but renewed agreed parties aventis july entered into agreement aventis licensed portion technology their use specified area pursuing presently intellectual property currently hold issued patents issued foreign patents all patents originated addition provisional utility patent applications foreign patent applications patents proprietary rights essential element business strategy file patent applications united states country represents important potential commercial market addition seek protect technology inventions improvements inventions important development business patent applications claim proprietary technology methods screening chemical synthetic methods novel drug targets novel compounds identified using technology also rely upon trade secret rights protect technologies used discover validate targets used identify develop novel drugs protect trade secrets part through confidentiality proprietary information agreements entered into license agreement dated november intellectual property rights ipsen group order expand strengthen intellectual property portfolio serotonin platform party various license agreements give rights use technologies research development pimavanserin two patents been issued provide generic coverage pimavanserin issued foreign patents generally cover pimavanserin patents european countries australia hong kong new zealand singapore south africa continue prosecute patent applications directed pimavanserin methods treating various diseases using pimavanserin either alone combination agents worldwide acp acp formed body clozapine structure known prior filing patent applications relating use treat conditions accordingly will able obtain composition matter patents directed form acp known prior filing patent applications filed patent applications claims directed use acp treatment neuropsychiatric table contents diseases either alone combination various agents addition filed patent applications directed methods synthesis acp various crystalline polymorphs thereof aware issued patent owned claims use acp analgesic drug discovery platform core sat technology protected four issued patents foreign patents drug candidates nine issued patents claims compounds affect muscarinic receptor activity also three issued patents compounds than pimavanserin serotonin program continue pursue patent applications areas countries competition face will continue face intense competition pharmaceutical biotechnology companies well numerous academic research institutions governmental agencies both united states abroad compete will compete applicable existing new products being developed competitors some competitors pursuing development pharmaceuticals target same diseases conditions research development programs target each clinical programs intend complete clinicaltrials designed evaluate potential advantages drug candidates compared current standard care even collaborators successful developing drug candidates resulting products would compete variety established drugs areas parkinson disease schizophrenia sleep maintenance insomnia neuropathic pain glaucoma example potential product treatment parkinson disease psychosis will compete off label use antipsychotic drugs seroquel marketed astra zeneca clozapine generic drug potential products treatment schizophrenia would compete zyprexa marketed eli lilly risperdal marketed johnson johnson abilify marketed jointly bristol myers squibb otsuka pharmaceutical seroquel clozapine zyprexa market leader worldwide sales billion while proven effective schizophrenia bipolar mania it produces variety adverse events weight gain orthostatic hypertension side effects potential products treatment sleep maintenance insomnia would compete ambien ambien cr marketed sanofi aventis lunesta marketed sepracor sonata marketed king pharmaceuticals inc rozerem marketed takeda pharmaceuticals north america inc various benzodiazepines ambien current market leader worldwide sales approximately billion potential products treatment neuropathic pain would compete neurontin lyrica each marketed pfizer cymbalta marketed eli lilly well variety generic proprietary opioids neurontin first product approved fda treatment neuropathic pain currently leading drugs approved neuropathic pain indications include lyrica successor neurontin cymbalta lyrica had worldwide sales billion cymbalta indicated treatment diabetic peripheral neuropathic pain well treatment major depressive disorder had worldwide sales billion potential products treatment glaucoma would compete xalatan marketed pfizer lumigan alphagan marketed allergan xalatan leading drug glaucoma treatment had worldwide sales excess billion it effective anti glaucoma agent but frequently causes increased pigmentation iris lead change iris color side effects xalatan include blurred vision burning stinging sensations eye table contents addition companies described above competitors variety drugs development awaiting fda approval could reach market become established before product sell competitors also develop alternative therapies could further limit market drugs develop some competitors using functional genomics technologies methods identify validate drug targets discover novel small molecule drugs many competitors their collaborators significantly greater experience than do following identifying validating targets screening compounds against targets preclinical clinicaltrials potential pharmaceutical products obtaining fda regulatory clearances addition many competitors their collaborators substantially greater advantages following areas capital resources research development resources manufacturing capabilities sales marketing smaller companies also prove significant competitors particularly through proprietary research discoveries collaborative arrangements large pharmaceutical established biotechnology companies many competitors products been approved advanced development face competition companies academic institutions governmental agencies public private research organizations collaborative arrangements pharmaceutical biotechnology companies recruiting retaining highly qualified scientific management personnel licenses additional technologies competitors either alone their collaborators succeed developing technologies drugs more effective safer more affordable more easily administered than ours achieve patent protection commercialize drugs sooner than developments others render drug candidates technologies obsolete failure compete effectively could material adverse affect business government regulation manufacturing marketing potential products ongoing research development activities subject extensive regulation numerous governmental authorities united states countries before marketing united states new drug developed must undergo rigorous preclinical testing clinicaltrials extensive regulatory clearance process implemented fda federal food drug cosmetic act amended fda regulates among things development testing manufacture safety efficacy record keeping labeling storage approval advertising promotion sale distribution biopharmaceutical products none drug candidates has been approved sale united states foreign market regulatory review approval process includes preclinical testing clinicaltrials each drug candidate lengthy expensive uncertain united states drug candidates tested animals until adequate proof safety established clinicaltrials new drug candidates typically conducted three sequential phases overlap phasei trials involve initial introduction drug candidate into healthy human volunteers emphasis phasei trials testing safety adverse effects dosage tolerance metabolism distribution excretion clinical pharmacology phaseii involves studies limited patient population determine initial efficacy compound specific targeted indications determine dosage tolerance optimal dosage table contents identify possible adverse side effects safety risks once compound shows evidence effectiveness found acceptable safety profile phaseii evaluations phaseiii trials undertaken more fully evaluate clinical outcomes before commencing clinical investigations humans collaborators must submit fda investigational new drug application ind regulatory authorities require additional data before allowing clinical studies commence proceed one phase another could demand studies discontinued suspended time there significant safety issues past future rely some collaborators file inds generally direct regulatory approval process many potential products clinical testing must also meet requirements institutional review board oversight informed consent good clinical practices establish new drug candidate safety efficacy fda requires companies seeking approval market drug product submit extensive preclinical clinical data along information each indication data information submitted fda form new drug application nda generating required data information nda takes many years requires expenditure substantial resources information generated process susceptible varying interpretations could delay limit prevent regulatory approval stage process failure demonstrate adequately quality safety efficacy drug candidate development would delay prevent regulatory approval drug candidate cannot assure you even clinicaltrials completed either collaborators will submit applications required authorizations manufacture and or market potential products application will reviewed approved appropriate regulatory authorities timely manner all applicable laws fda regulations each nda submitted fda approval usually given internal administrative review within days following submission nda deemed sufficiently complete permit substantive review fda will xfile nda thereby triggering substantive review application fda can refuse file nda it deems incomplete properly reviewable fda has established internal goals six months priority review ndas cover drug candidates offer major advances treatment provide treatment where no adequate therapy exists months standard review non priority ndas however fda legally required complete review within periods performance goals change over time moreover outcome review even generally favorable actual approval but ction letter describes additional work must done before nda can approved fda review nda involve review recommendations independent fda advisory committee before receiving fda approval market potential product collaborators must demonstrate through adequate well controlled clinical studies potential product safe effective patient population will treated regulatory approval potential product granted approval will limited disease states conditions product approved marketing promoting drug unapproved indication generally prohibited furthermore fda approval entail ongoing requirements post marketing studies even approval obtained marketed product manufacturer manufacturing facilities subject continuing review periodic inspections fda discovery previously unknown problems product manufacturer facility result restrictions product manufacturer labeling changes costly recalls withdrawal product market drug likely produce some toxicities undesirable side effects animals humans when administered sufficiently high doses and or sufficiently long periods time unacceptable toxicities side effects occur dose level time course studies animals designed identify unacceptable effects drug candidate known toxicological studies during clinicaltrials potential products appearance unacceptable toxicity side effect could cause regulatory authorities interrupt limit delay abort development drug candidates further unacceptable toxicity side effects could ultimately prevent potential product approval fda foreign regulatory authorities all targeted indications limit labeling claims even product approved table contents collaborators contract manufacturers also required comply applicable fda current good manufacturing practice regulations good manufacturing practice regulations include requirements relating quality control quality assurance well corresponding maintenance records documentation manufacturing facilities subject inspection fda facilities must approved before can use commercial manufacturing potential products fda conclude collaborators contract manufacturers compliance applicable good manufacturing practice requirements fda regulatory requirements product approved must also comply post marketing requirements but limited compliance prescription drug marketing act post marketing safety surveillance addition subject state regulation but limited implementation corporate compliance programs gift reporting healthcare professionals outside united states ability market product contingent upon receiving marketing authorization appropriate regulatory authorities requirements governing conduct clinicaltrials marketing authorization pricing reimbursement vary widely country country present foreign marketing authorizations applied national level although within european community ec registration procedures available companies wishing market product more than one ec member state regulatory authority satisfied adequate evidence safety quality efficacy has been presented marketing authorization will granted foreign regulatory approval process involves all risks associated fda marketing approval discussed above drugs serious life threatening illnesses federal food drug cosmetic act amended fda regulations provide mechanisms accelerated xfast track approval potential products intended treat serious life threatening illnesses been studied safety effectiveness demonstrate potential address unmet medical needs procedures permit early consultation commitment fda regarding preclinical clinical studies necessary gain marketing approval provisions regulatory framework also permit cases ndas approved basis valid surrogate markers product effectiveness thus accelerating normal approval process potential products employing technology might qualify accelerated regulatory procedure even fda agrees potential products qualify accelerated approval procedures fda deny approval drugs require additional studies required before approval fda also require perform post approval phaseiv studies condition early approval addition fda impose restrictions distribution and or promotion connection accelerated approval withdraw approval post approval studies do confirm intended clinical benefit safety potential product regulatory requirements united states research manufacturing distribution sale promotion drug products potentially subject regulation various federal state local authorities addition fda centers medicare medicaid services formerly health care financing administration divisions united states department health human services example office inspector general state local governments example drug product reimbursed medicare medicaid federal state health care programs sales marketing scientific educational grant programs must comply medicare medicaid anti fraud abuse act amended false claims act also amended similar state laws drug product reimbursed medicare medicaid pricing rebate programs must comply applicable medicaid rebate requirements omnibus budget reconciliation act amended medicare prescription drug improvement modernization act drug products made available authorized users federal supply schedule general services administration additional laws requirements apply all activities also potentially subject federal state consumer protection unfair competition laws table contents marketing sales distribution currently limited marketing no sales distribution capabilities order commercialize drug candidates must develop capabilities internally through collaboration third parties selected therapeutic areas where feel drug candidates can commercialized specialty sales force calls limited focused group physicians plan participate commercialization drug candidates therapeutic areas require large sales force selling large diverse prescribing population plan partner drug candidates commercialization manufacturing outsource plan continue outsource manufacturing responsibilities existing future drug candidates development commercial purposes production pimavanserin acp employs small molecule synthetic organic chemistry procedures standard pharmaceutical industry collaboration agreements provide partners arrange production drug candidates use clinicaltrials potential commercialization employees december had employees whom hold phd advanced degrees total workforce engaged research development activities engaged business development finance administration employees located united states located sweden none employees represented collective bargaining agreement nor experienced work stoppages believe relations employees good research development expenses research development expenses were million million million long lived assets information regarding long lived assets geographic area follows december thousands united states europe total'"
      ]
     },
     "execution_count": 178,
     "metadata": {},
     "output_type": "execute_result"
    }
   ],
   "source": [
    "documents[0]"
   ]
  },
  {
   "cell_type": "code",
   "execution_count": null,
   "metadata": {},
   "outputs": [],
   "source": []
  }
 ],
 "metadata": {
  "kernelspec": {
   "display_name": "Python 3",
   "language": "python",
   "name": "python3"
  },
  "language_info": {
   "codemirror_mode": {
    "name": "ipython",
    "version": 3
   },
   "file_extension": ".py",
   "mimetype": "text/x-python",
   "name": "python",
   "nbconvert_exporter": "python",
   "pygments_lexer": "ipython3",
   "version": "3.5.2"
  }
 },
 "nbformat": 4,
 "nbformat_minor": 2
}
