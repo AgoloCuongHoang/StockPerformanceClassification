{
 "cells": [
  {
   "cell_type": "markdown",
   "metadata": {},
   "source": [
    "# 1 - Source Text Filtering"
   ]
  },
  {
   "cell_type": "code",
   "execution_count": 133,
   "metadata": {},
   "outputs": [
    {
     "name": "stdout",
     "output_type": "stream",
     "text": [
      "3.5.2 |Continuum Analytics, Inc.| (default, Jul  5 2016, 11:41:13) [MSC v.1900 64 bit (AMD64)]\n"
     ]
    }
   ],
   "source": [
    "import sys\n",
    "print(sys.version)"
   ]
  },
  {
   "cell_type": "code",
   "execution_count": 134,
   "metadata": {},
   "outputs": [],
   "source": [
    "# Use AzureML's data collector to log various metrics!\n",
    "#from azureml.logging import current_scriptrun\n",
    "#logger = current_scriptrun()\n",
    "\n",
    "import string, re\n",
    "import pandas as pd\n",
    "from nltk.corpus import stopwords\n",
    "from gensim import corpora, models, similarities\n",
    "import azureml\n",
    "from __future__ import division\n",
    "import numpy as np\n",
    "import nltk\n",
    "from nltk.corpus import stopwords\n",
    "from azure.storage.blob import BlockBlobService"
   ]
  },
  {
   "cell_type": "markdown",
   "metadata": {},
   "source": [
    "Imprt source text and write to a pandas dataframe"
   ]
  },
  {
   "cell_type": "code",
   "execution_count": 135,
   "metadata": {},
   "outputs": [
    {
     "data": {
      "text/plain": [
       "'C:\\\\Users\\\\pattyry\\\\Documents\\\\AzureML\\\\NextAgenda_CodeStory\\\\NextAgenda_CodeStory'"
      ]
     },
     "execution_count": 135,
     "metadata": {},
     "output_type": "execute_result"
    }
   ],
   "source": [
    "import os\n",
    "os.getcwd()"
   ]
  },
  {
   "cell_type": "code",
   "execution_count": 136,
   "metadata": {},
   "outputs": [
    {
     "name": "stdout",
     "output_type": "stream",
     "text": [
      "Data unpickled\n"
     ]
    },
    {
     "data": {
      "text/plain": [
       "(32233, 16)"
      ]
     },
     "execution_count": 136,
     "metadata": {},
     "output_type": "execute_result"
    }
   ],
   "source": [
    "import pickle\n",
    "with open('Data2.pkl', 'rb') as f:\n",
    "    data = pickle.load(f)\n",
    "    print(\"Data unpickled\")\n",
    "    import pandas as pd\n",
    "data = pd.DataFrame(data)\n",
    "data.shape"
   ]
  },
  {
   "cell_type": "markdown",
   "metadata": {},
   "source": [
    "Review data"
   ]
  },
  {
   "cell_type": "code",
   "execution_count": 137,
   "metadata": {},
   "outputs": [
    {
     "data": {
      "text/html": [
       "<div>\n",
       "<style>\n",
       "    .dataframe thead tr:only-child th {\n",
       "        text-align: right;\n",
       "    }\n",
       "\n",
       "    .dataframe thead th {\n",
       "        text-align: left;\n",
       "    }\n",
       "\n",
       "    .dataframe tbody tr th {\n",
       "        vertical-align: top;\n",
       "    }\n",
       "</style>\n",
       "<table border=\"1\" class=\"dataframe\">\n",
       "  <thead>\n",
       "    <tr style=\"text-align: right;\">\n",
       "      <th></th>\n",
       "      <th>Ticker</th>\n",
       "      <th>Year</th>\n",
       "      <th>Month</th>\n",
       "      <th>Day</th>\n",
       "      <th>Date</th>\n",
       "      <th>Category</th>\n",
       "      <th>Category Number</th>\n",
       "      <th>Future_4_weeks</th>\n",
       "      <th>Future_26_weeks</th>\n",
       "      <th>Text</th>\n",
       "      <th>Label</th>\n",
       "      <th>Price_Date</th>\n",
       "      <th>Price_4_weeks</th>\n",
       "      <th>Price_26_weeks</th>\n",
       "      <th>Return_4_weeks</th>\n",
       "      <th>Return_26_weeks</th>\n",
       "    </tr>\n",
       "  </thead>\n",
       "  <tbody>\n",
       "    <tr>\n",
       "      <th>1</th>\n",
       "      <td>AAL</td>\n",
       "      <td>2014</td>\n",
       "      <td>02</td>\n",
       "      <td>28</td>\n",
       "      <td>2014-02-28</td>\n",
       "      <td>Major Airlines</td>\n",
       "      <td>770</td>\n",
       "      <td>2014-03-28</td>\n",
       "      <td>2014-08-29</td>\n",
       "      <td>OverviewAmerican Airlines Group Inc. (AAG) a D...</td>\n",
       "      <td>Item1</td>\n",
       "      <td>35.798592</td>\n",
       "      <td>34.305775</td>\n",
       "      <td>37.784386</td>\n",
       "      <td>-4.178315</td>\n",
       "      <td>0.788191</td>\n",
       "    </tr>\n",
       "    <tr>\n",
       "      <th>2</th>\n",
       "      <td>AAL</td>\n",
       "      <td>2013</td>\n",
       "      <td>02</td>\n",
       "      <td>20</td>\n",
       "      <td>2013-02-20</td>\n",
       "      <td>Major Airlines</td>\n",
       "      <td>770</td>\n",
       "      <td>2013-03-20</td>\n",
       "      <td>2013-08-21</td>\n",
       "      <td>Chapter 11 ProceedingsOn November 29, 2011 (th...</td>\n",
       "      <td>Item1</td>\n",
       "      <td>12.921616</td>\n",
       "      <td>16.702129</td>\n",
       "      <td>15.325636</td>\n",
       "      <td>25.062782</td>\n",
       "      <td>11.639949</td>\n",
       "    </tr>\n",
       "  </tbody>\n",
       "</table>\n",
       "</div>"
      ],
      "text/plain": [
       "  Ticker  Year Month Day        Date        Category Category Number  \\\n",
       "1    AAL  2014    02  28  2014-02-28  Major Airlines             770   \n",
       "2    AAL  2013    02  20  2013-02-20  Major Airlines             770   \n",
       "\n",
       "  Future_4_weeks Future_26_weeks  \\\n",
       "1     2014-03-28      2014-08-29   \n",
       "2     2013-03-20      2013-08-21   \n",
       "\n",
       "                                                Text  Label  Price_Date  \\\n",
       "1  OverviewAmerican Airlines Group Inc. (AAG) a D...  Item1   35.798592   \n",
       "2  Chapter 11 ProceedingsOn November 29, 2011 (th...  Item1   12.921616   \n",
       "\n",
       "   Price_4_weeks  Price_26_weeks  Return_4_weeks  Return_26_weeks  \n",
       "1      34.305775       37.784386       -4.178315         0.788191  \n",
       "2      16.702129       15.325636       25.062782        11.639949  "
      ]
     },
     "execution_count": 137,
     "metadata": {},
     "output_type": "execute_result"
    }
   ],
   "source": [
    "data.head(2)"
   ]
  },
  {
   "cell_type": "markdown",
   "metadata": {},
   "source": [
    "Discard data not of interest"
   ]
  },
  {
   "cell_type": "code",
   "execution_count": 138,
   "metadata": {},
   "outputs": [
    {
     "name": "stdout",
     "output_type": "stream",
     "text": [
      "(32233, 10)\n"
     ]
    },
    {
     "data": {
      "text/html": [
       "<div>\n",
       "<style>\n",
       "    .dataframe thead tr:only-child th {\n",
       "        text-align: right;\n",
       "    }\n",
       "\n",
       "    .dataframe thead th {\n",
       "        text-align: left;\n",
       "    }\n",
       "\n",
       "    .dataframe tbody tr th {\n",
       "        vertical-align: top;\n",
       "    }\n",
       "</style>\n",
       "<table border=\"1\" class=\"dataframe\">\n",
       "  <thead>\n",
       "    <tr style=\"text-align: right;\">\n",
       "      <th></th>\n",
       "      <th>Ticker</th>\n",
       "      <th>Year</th>\n",
       "      <th>Date</th>\n",
       "      <th>Category</th>\n",
       "      <th>Category Number</th>\n",
       "      <th>Text</th>\n",
       "      <th>Label</th>\n",
       "      <th>Price_Date</th>\n",
       "      <th>Return_4_weeks</th>\n",
       "      <th>Return_26_weeks</th>\n",
       "    </tr>\n",
       "  </thead>\n",
       "  <tbody>\n",
       "    <tr>\n",
       "      <th>1</th>\n",
       "      <td>AAL</td>\n",
       "      <td>2014</td>\n",
       "      <td>2014-02-28</td>\n",
       "      <td>Major Airlines</td>\n",
       "      <td>770</td>\n",
       "      <td>OverviewAmerican Airlines Group Inc. (AAG) a D...</td>\n",
       "      <td>Item1</td>\n",
       "      <td>35.798592</td>\n",
       "      <td>-4.178315</td>\n",
       "      <td>0.788191</td>\n",
       "    </tr>\n",
       "    <tr>\n",
       "      <th>2</th>\n",
       "      <td>AAL</td>\n",
       "      <td>2013</td>\n",
       "      <td>2013-02-20</td>\n",
       "      <td>Major Airlines</td>\n",
       "      <td>770</td>\n",
       "      <td>Chapter 11 ProceedingsOn November 29, 2011 (th...</td>\n",
       "      <td>Item1</td>\n",
       "      <td>12.921616</td>\n",
       "      <td>25.062782</td>\n",
       "      <td>11.639949</td>\n",
       "    </tr>\n",
       "  </tbody>\n",
       "</table>\n",
       "</div>"
      ],
      "text/plain": [
       "  Ticker  Year        Date        Category Category Number  \\\n",
       "1    AAL  2014  2014-02-28  Major Airlines             770   \n",
       "2    AAL  2013  2013-02-20  Major Airlines             770   \n",
       "\n",
       "                                                Text  Label  Price_Date  \\\n",
       "1  OverviewAmerican Airlines Group Inc. (AAG) a D...  Item1   35.798592   \n",
       "2  Chapter 11 ProceedingsOn November 29, 2011 (th...  Item1   12.921616   \n",
       "\n",
       "   Return_4_weeks  Return_26_weeks  \n",
       "1       -4.178315         0.788191  \n",
       "2       25.062782        11.639949  "
      ]
     },
     "execution_count": 138,
     "metadata": {},
     "output_type": "execute_result"
    }
   ],
   "source": [
    "data1=data.drop(['Month', 'Day', \n",
    "                'Future_4_weeks', 'Future_26_weeks','Price_4_weeks','Price_26_weeks'], axis=1)\n",
    "print(data1.shape)\n",
    "data1.head(2)"
   ]
  },
  {
   "cell_type": "code",
   "execution_count": 139,
   "metadata": {},
   "outputs": [
    {
     "data": {
      "text/plain": [
       "2014    4174\n",
       "2015    4033\n",
       "2012    3694\n",
       "2013    3652\n",
       "2016    3594\n",
       "2011    2901\n",
       "2010    2774\n",
       "2009    2675\n",
       "2017    2451\n",
       "2008    2285\n",
       "Name: Year, dtype: int64"
      ]
     },
     "execution_count": 139,
     "metadata": {},
     "output_type": "execute_result"
    }
   ],
   "source": [
    "data1['Year'].value_counts()"
   ]
  },
  {
   "cell_type": "code",
   "execution_count": 140,
   "metadata": {},
   "outputs": [
    {
     "name": "stdout",
     "output_type": "stream",
     "text": [
      "data shape (32233, 8)\n"
     ]
    },
    {
     "data": {
      "text/html": [
       "<div>\n",
       "<style>\n",
       "    .dataframe thead tr:only-child th {\n",
       "        text-align: right;\n",
       "    }\n",
       "\n",
       "    .dataframe thead th {\n",
       "        text-align: left;\n",
       "    }\n",
       "\n",
       "    .dataframe tbody tr th {\n",
       "        vertical-align: top;\n",
       "    }\n",
       "</style>\n",
       "<table border=\"1\" class=\"dataframe\">\n",
       "  <thead>\n",
       "    <tr style=\"text-align: right;\">\n",
       "      <th></th>\n",
       "      <th>Ticker</th>\n",
       "      <th>Category</th>\n",
       "      <th>Category Number</th>\n",
       "      <th>Text</th>\n",
       "      <th>Label</th>\n",
       "      <th>Price_Date</th>\n",
       "      <th>Return_4_weeks</th>\n",
       "      <th>Return_26_weeks</th>\n",
       "    </tr>\n",
       "  </thead>\n",
       "  <tbody>\n",
       "    <tr>\n",
       "      <th>1</th>\n",
       "      <td>AAL</td>\n",
       "      <td>Major Airlines</td>\n",
       "      <td>770</td>\n",
       "      <td>OverviewAmerican Airlines Group Inc. (AAG) a D...</td>\n",
       "      <td>Item1</td>\n",
       "      <td>35.798592</td>\n",
       "      <td>-4.178315</td>\n",
       "      <td>0.788191</td>\n",
       "    </tr>\n",
       "    <tr>\n",
       "      <th>2</th>\n",
       "      <td>AAL</td>\n",
       "      <td>Major Airlines</td>\n",
       "      <td>770</td>\n",
       "      <td>Chapter 11 ProceedingsOn November 29, 2011 (th...</td>\n",
       "      <td>Item1</td>\n",
       "      <td>12.921616</td>\n",
       "      <td>25.062782</td>\n",
       "      <td>11.639949</td>\n",
       "    </tr>\n",
       "  </tbody>\n",
       "</table>\n",
       "</div>"
      ],
      "text/plain": [
       "  Ticker        Category Category Number  \\\n",
       "1    AAL  Major Airlines             770   \n",
       "2    AAL  Major Airlines             770   \n",
       "\n",
       "                                                Text  Label  Price_Date  \\\n",
       "1  OverviewAmerican Airlines Group Inc. (AAG) a D...  Item1   35.798592   \n",
       "2  Chapter 11 ProceedingsOn November 29, 2011 (th...  Item1   12.921616   \n",
       "\n",
       "   Return_4_weeks  Return_26_weeks  \n",
       "1       -4.178315         0.788191  \n",
       "2       25.062782        11.639949  "
      ]
     },
     "execution_count": 140,
     "metadata": {},
     "output_type": "execute_result"
    }
   ],
   "source": [
    "data2=data1.drop(['Year','Date'], axis=1)\n",
    "print('data shape',data2.shape)\n",
    "data2.head(2)"
   ]
  },
  {
   "cell_type": "markdown",
   "metadata": {},
   "source": [
    "Create calculated normalized percent return, creaate 3 bins"
   ]
  },
  {
   "cell_type": "code",
   "execution_count": 141,
   "metadata": {},
   "outputs": [
    {
     "name": "stdout",
     "output_type": "stream",
     "text": [
      "(32233, 12)\n"
     ]
    },
    {
     "data": {
      "text/html": [
       "<div>\n",
       "<style>\n",
       "    .dataframe thead tr:only-child th {\n",
       "        text-align: right;\n",
       "    }\n",
       "\n",
       "    .dataframe thead th {\n",
       "        text-align: left;\n",
       "    }\n",
       "\n",
       "    .dataframe tbody tr th {\n",
       "        vertical-align: top;\n",
       "    }\n",
       "</style>\n",
       "<table border=\"1\" class=\"dataframe\">\n",
       "  <thead>\n",
       "    <tr style=\"text-align: right;\">\n",
       "      <th></th>\n",
       "      <th>Ticker</th>\n",
       "      <th>Category</th>\n",
       "      <th>Category Number</th>\n",
       "      <th>Text</th>\n",
       "      <th>Label</th>\n",
       "      <th>Price_Date</th>\n",
       "      <th>Return_4_weeks</th>\n",
       "      <th>Return_26_weeks</th>\n",
       "      <th>PercReturn_4_Weeks</th>\n",
       "      <th>PercReturn_26_Weeks</th>\n",
       "      <th>ReturnBin_4Weeks</th>\n",
       "      <th>ReturnBin_26Weeks</th>\n",
       "    </tr>\n",
       "  </thead>\n",
       "  <tbody>\n",
       "    <tr>\n",
       "      <th>1</th>\n",
       "      <td>AAL</td>\n",
       "      <td>Major Airlines</td>\n",
       "      <td>770</td>\n",
       "      <td>OverviewAmerican Airlines Group Inc. (AAG) a D...</td>\n",
       "      <td>Item1</td>\n",
       "      <td>35.798592</td>\n",
       "      <td>-4.178315</td>\n",
       "      <td>0.788191</td>\n",
       "      <td>-0.116717</td>\n",
       "      <td>0.022017</td>\n",
       "      <td>0</td>\n",
       "      <td>1</td>\n",
       "    </tr>\n",
       "    <tr>\n",
       "      <th>2</th>\n",
       "      <td>AAL</td>\n",
       "      <td>Major Airlines</td>\n",
       "      <td>770</td>\n",
       "      <td>Chapter 11 ProceedingsOn November 29, 2011 (th...</td>\n",
       "      <td>Item1</td>\n",
       "      <td>12.921616</td>\n",
       "      <td>25.062782</td>\n",
       "      <td>11.639949</td>\n",
       "      <td>1.939601</td>\n",
       "      <td>0.900812</td>\n",
       "      <td>2</td>\n",
       "      <td>2</td>\n",
       "    </tr>\n",
       "  </tbody>\n",
       "</table>\n",
       "</div>"
      ],
      "text/plain": [
       "  Ticker        Category Category Number  \\\n",
       "1    AAL  Major Airlines             770   \n",
       "2    AAL  Major Airlines             770   \n",
       "\n",
       "                                                Text  Label  Price_Date  \\\n",
       "1  OverviewAmerican Airlines Group Inc. (AAG) a D...  Item1   35.798592   \n",
       "2  Chapter 11 ProceedingsOn November 29, 2011 (th...  Item1   12.921616   \n",
       "\n",
       "   Return_4_weeks  Return_26_weeks  PercReturn_4_Weeks  PercReturn_26_Weeks  \\\n",
       "1       -4.178315         0.788191           -0.116717             0.022017   \n",
       "2       25.062782        11.639949            1.939601             0.900812   \n",
       "\n",
       "  ReturnBin_4Weeks ReturnBin_26Weeks  \n",
       "1                0                 1  \n",
       "2                2                 2  "
      ]
     },
     "execution_count": 141,
     "metadata": {},
     "output_type": "execute_result"
    }
   ],
   "source": [
    "data2[\"PercReturn_4_Weeks\"] = data2.Return_4_weeks / data2.Price_Date\n",
    "data2[\"PercReturn_26_Weeks\"] = data2.Return_26_weeks / data2.Price_Date\n",
    "data2[\"ReturnBin_4Weeks\"] = pd.qcut(data2[\"PercReturn_4_Weeks\"], 3,labels=range(3))\n",
    "data2[\"ReturnBin_26Weeks\"] = pd.qcut(data2[\"PercReturn_26_Weeks\"], 3,labels=range(3))\n",
    "referencedata=data2\n",
    "print(data2.shape)\n",
    "data2.head(2)\n"
   ]
  },
  {
   "cell_type": "code",
   "execution_count": 142,
   "metadata": {},
   "outputs": [
    {
     "data": {
      "text/html": [
       "<div>\n",
       "<style>\n",
       "    .dataframe thead tr:only-child th {\n",
       "        text-align: right;\n",
       "    }\n",
       "\n",
       "    .dataframe thead th {\n",
       "        text-align: left;\n",
       "    }\n",
       "\n",
       "    .dataframe tbody tr th {\n",
       "        vertical-align: top;\n",
       "    }\n",
       "</style>\n",
       "<table border=\"1\" class=\"dataframe\">\n",
       "  <thead>\n",
       "    <tr style=\"text-align: right;\">\n",
       "      <th></th>\n",
       "      <th>Ticker</th>\n",
       "      <th>Category</th>\n",
       "      <th>Category Number</th>\n",
       "      <th>Text</th>\n",
       "      <th>Label</th>\n",
       "      <th>Price_Date</th>\n",
       "      <th>Return_4_weeks</th>\n",
       "      <th>Return_26_weeks</th>\n",
       "      <th>PercReturn_4_Weeks</th>\n",
       "      <th>PercReturn_26_Weeks</th>\n",
       "      <th>ReturnBin_4Weeks</th>\n",
       "      <th>ReturnBin_26Weeks</th>\n",
       "    </tr>\n",
       "  </thead>\n",
       "  <tbody>\n",
       "    <tr>\n",
       "      <th>18777</th>\n",
       "      <td>BRN</td>\n",
       "      <td>Independent Oil &amp; Gas</td>\n",
       "      <td>121</td>\n",
       "      <td>The business of Barnwell and its subsidiaries ...</td>\n",
       "      <td>Item1A</td>\n",
       "      <td>3.05</td>\n",
       "      <td>157.399339</td>\n",
       "      <td>101.735227</td>\n",
       "      <td>51.606341</td>\n",
       "      <td>33.355812</td>\n",
       "      <td>2</td>\n",
       "      <td>2</td>\n",
       "    </tr>\n",
       "    <tr>\n",
       "      <th>2237</th>\n",
       "      <td>BRN</td>\n",
       "      <td>Independent Oil &amp; Gas</td>\n",
       "      <td>121</td>\n",
       "      <td>Overview Barnwell was incorporated in Delaware...</td>\n",
       "      <td>Item1</td>\n",
       "      <td>3.05</td>\n",
       "      <td>157.399339</td>\n",
       "      <td>101.735227</td>\n",
       "      <td>51.606341</td>\n",
       "      <td>33.355812</td>\n",
       "      <td>2</td>\n",
       "      <td>2</td>\n",
       "    </tr>\n",
       "  </tbody>\n",
       "</table>\n",
       "</div>"
      ],
      "text/plain": [
       "      Ticker               Category Category Number  \\\n",
       "18777    BRN  Independent Oil & Gas             121   \n",
       "2237     BRN  Independent Oil & Gas             121   \n",
       "\n",
       "                                                    Text   Label  Price_Date  \\\n",
       "18777  The business of Barnwell and its subsidiaries ...  Item1A        3.05   \n",
       "2237   Overview Barnwell was incorporated in Delaware...   Item1        3.05   \n",
       "\n",
       "       Return_4_weeks  Return_26_weeks  PercReturn_4_Weeks  \\\n",
       "18777      157.399339       101.735227           51.606341   \n",
       "2237       157.399339       101.735227           51.606341   \n",
       "\n",
       "       PercReturn_26_Weeks ReturnBin_4Weeks ReturnBin_26Weeks  \n",
       "18777            33.355812                2                 2  \n",
       "2237             33.355812                2                 2  "
      ]
     },
     "execution_count": 142,
     "metadata": {},
     "output_type": "execute_result"
    }
   ],
   "source": [
    "data2.dtypes\n",
    "data2 = data2.sort_values(['Return_4_weeks'], ascending=[False])\n",
    "data2.head(2)"
   ]
  },
  {
   "cell_type": "code",
   "execution_count": 143,
   "metadata": {},
   "outputs": [
    {
     "name": "stdout",
     "output_type": "stream",
     "text": [
      "(32233, 4)\n"
     ]
    },
    {
     "data": {
      "text/html": [
       "<div>\n",
       "<style>\n",
       "    .dataframe thead tr:only-child th {\n",
       "        text-align: right;\n",
       "    }\n",
       "\n",
       "    .dataframe thead th {\n",
       "        text-align: left;\n",
       "    }\n",
       "\n",
       "    .dataframe tbody tr th {\n",
       "        vertical-align: top;\n",
       "    }\n",
       "</style>\n",
       "<table border=\"1\" class=\"dataframe\">\n",
       "  <thead>\n",
       "    <tr style=\"text-align: right;\">\n",
       "      <th></th>\n",
       "      <th>Category</th>\n",
       "      <th>ReturnBin_4Weeks</th>\n",
       "      <th>ReturnBin_26Weeks</th>\n",
       "      <th>fulltext</th>\n",
       "    </tr>\n",
       "  </thead>\n",
       "  <tbody>\n",
       "    <tr>\n",
       "      <th>18777</th>\n",
       "      <td>Independent Oil &amp; Gas</td>\n",
       "      <td>2</td>\n",
       "      <td>2</td>\n",
       "      <td>BRN.   The business of Barnwell and its subsid...</td>\n",
       "    </tr>\n",
       "    <tr>\n",
       "      <th>2237</th>\n",
       "      <td>Independent Oil &amp; Gas</td>\n",
       "      <td>2</td>\n",
       "      <td>2</td>\n",
       "      <td>BRN.   Overview Barnwell was incorporated in D...</td>\n",
       "    </tr>\n",
       "    <tr>\n",
       "      <th>35290</th>\n",
       "      <td>Independent Oil &amp; Gas</td>\n",
       "      <td>2</td>\n",
       "      <td>2</td>\n",
       "      <td>BRN.   MANAGEMENTS DISCUSSION AND ANALYSIS OF...</td>\n",
       "    </tr>\n",
       "  </tbody>\n",
       "</table>\n",
       "</div>"
      ],
      "text/plain": [
       "                    Category ReturnBin_4Weeks ReturnBin_26Weeks  \\\n",
       "18777  Independent Oil & Gas                2                 2   \n",
       "2237   Independent Oil & Gas                2                 2   \n",
       "35290  Independent Oil & Gas                2                 2   \n",
       "\n",
       "                                                fulltext  \n",
       "18777  BRN.   The business of Barnwell and its subsid...  \n",
       "2237   BRN.   Overview Barnwell was incorporated in D...  \n",
       "35290  BRN.   MANAGEMENTS DISCUSSION AND ANALYSIS OF...  "
      ]
     },
     "execution_count": 143,
     "metadata": {},
     "output_type": "execute_result"
    }
   ],
   "source": [
    "df=data2\n",
    "df['fulltext'] = df[['Ticker', 'Text']].apply(lambda x: '.   '.join(x), axis=1)\n",
    "df=df.drop(['Text','Ticker','Price_Date','Return_4_weeks','Return_26_weeks','PercReturn_4_Weeks','PercReturn_26_Weeks','Category Number','Label'], axis=1)\n",
    "print(df.shape)\n",
    "df.head(3)\n"
   ]
  },
  {
   "cell_type": "code",
   "execution_count": 144,
   "metadata": {},
   "outputs": [
    {
     "data": {
      "text/plain": [
       "Category               object\n",
       "ReturnBin_4Weeks     category\n",
       "ReturnBin_26Weeks    category\n",
       "fulltext               object\n",
       "dtype: object"
      ]
     },
     "execution_count": 144,
     "metadata": {},
     "output_type": "execute_result"
    }
   ],
   "source": [
    "df.dtypes"
   ]
  },
  {
   "cell_type": "code",
   "execution_count": 145,
   "metadata": {},
   "outputs": [
    {
     "name": "stdout",
     "output_type": "stream",
     "text": [
      "['Independent Oil & Gas' 'Semiconductor - Integrated Circuits'\n",
      " 'Oil & Gas Equipment & Services' 'Regional - Midwest Banks'\n",
      " 'Oil & Gas Drilling & Exploration' 'Industrial Electrical Equipment'\n",
      " 'Credit Services' '' 'REIT - Diversified' 'Shipping'\n",
      " 'Beverages - Soft Drinks' 'Auto Dealerships' 'Mortgage Investment'\n",
      " 'Regional - Pacific Banks' 'Asset Management' 'Business Services'\n",
      " 'Money Center Banks' 'Metal Fabrication' 'General Building Materials'\n",
      " 'Heavy Construction' 'Biotechnology' 'Application Software'\n",
      " 'Networking & Communication Devices' 'Textile - Apparel Clothing'\n",
      " 'Health Care Plans' 'Steel & Iron' 'Restaurants' 'Rubber & Plastics'\n",
      " 'REIT - Hotel/Motel' 'Property & Casualty Insurance' 'Broadcasting - TV'\n",
      " 'Technical & System Software' 'Diversified Electronics' 'Drug Stores'\n",
      " 'Semiconductor Equipment & Materials' 'Internet Information Providers'\n",
      " 'Tobacco Products' 'Regional - Mid-Atlantic Banks' 'Life Insurance'\n",
      " 'Oil & Gas Pipelines' 'Specialty Chemicals' 'Trucks & Other Vehicles'\n",
      " 'Apparel Stores' 'Diversified Communication Services'\n",
      " 'Medical Instruments & Supplies' 'Home Furnishings & Fixtures'\n",
      " 'Chemicals - Major Diversified' 'Savings & Loans' 'Drugs - Generic'\n",
      " 'Communication Equipment' 'Investment Brokerage - National'\n",
      " 'Regional Airlines' 'Drug Manufacturers - Major' 'Waste Management'\n",
      " 'Pollution & Treatment Controls' 'Department Stores'\n",
      " 'Scientific & Technical Instruments' 'Regional - Southeast Banks'\n",
      " 'Drug Manufacturers - Other' 'Computer Based Systems' 'Gas Utilities'\n",
      " 'Specialty Retail' 'Machine Tools & Accessories' 'Marketing Services'\n",
      " 'Food - Major Diversified' 'Industrial Metals & Minerals'\n",
      " 'Industrial Equipment & Components' 'Long Distance Carriers'\n",
      " 'Management Services' 'Packaging & Containers' 'Diversified Machinery'\n",
      " 'Technical Services' 'Auto Parts' 'Foreign Regional Banks'\n",
      " 'Resorts & Casinos' 'Diagnostic Substances' 'REIT - Residential'\n",
      " 'Real Estate Development' 'Staffing & Outsourcing Services'\n",
      " 'Grocery Stores' 'Business Software & Services' 'Railroads'\n",
      " 'Aerospace/Defense Products & Services' 'Regional - Northeast Banks'\n",
      " 'Diversified Investments' 'Paper & Paper Products'\n",
      " 'Building Materials Wholesale' 'Textile - Apparel Footwear & Accessories'\n",
      " 'Water Utilities' 'Processed & Packaged Goods' 'Lumber'\n",
      " 'Broadcasting - Radio' 'General Entertainment'\n",
      " 'Catalog & Mail Order Houses' 'Business Equipment'\n",
      " 'Entertainment - Diversified' 'Major Airlines'\n",
      " 'Diversified Computer Systems' 'Rental & Leasing Services'\n",
      " 'Personal Services' 'Electronics Stores' 'Wireless Communications'\n",
      " 'Data Storage Devices' 'Agricultural Chemicals' 'Personal Products'\n",
      " 'Electronic Equipment' 'Movie Production' 'Internet Software & Services'\n",
      " 'Semiconductor - Broad Line' 'Semiconductor - Specialized'\n",
      " 'Publishing - Newspapers' 'Hospitals' 'Computer Peripherals'\n",
      " 'Toy & Hobby Stores' 'Residential Construction' 'Discount'\n",
      " 'Telecom Services - Domestic' 'Drug Related Products' 'Food Wholesale'\n",
      " 'Long-Term Care Facilities' 'Investment Brokerage - Regional'\n",
      " 'Medical Appliances & Equipment' 'Healthcare Information Services'\n",
      " 'Medical Laboratories & Research' 'Telecom Services - Foreign'\n",
      " 'Farm Products' 'Security Software & Services' 'Cleaning Products'\n",
      " 'CATV Systems' 'REIT - Healthcare Facilities'\n",
      " 'Information Technology Services' 'REIT - Retail'\n",
      " 'Education & Training Services' 'Regional - Southwest  Banks'\n",
      " 'Research Services' 'Industrial Equipment Wholesale' 'Gaming Activities'\n",
      " 'Gold' 'Printed Circuit Boards' 'Electric Utilities' 'Conglomerates'\n",
      " 'Sporting Goods Stores' 'Lodging' 'Small Tools & Accessories'\n",
      " 'Sporting Activities' 'Farm & Construction Machinery' 'Meat Products'\n",
      " 'Office Supplies' 'Multimedia & Graphics Software' 'Computers Wholesale'\n",
      " 'Home Health Care' 'Sporting Goods' 'Property Management'\n",
      " 'Publishing - Periodicals' 'Electronics Wholesale'\n",
      " 'Oil & Gas Refining & Marketing' 'Accident & Health Insurance'\n",
      " 'General Contractors' 'REIT - Office' 'Confectioners' 'REIT - Industrial'\n",
      " 'Jewelry Stores' 'Air Delivery & Freight Services'\n",
      " 'Information & Delivery Services' 'Aerospace/Defense - Major Diversified'\n",
      " 'Appliances' 'Drug Delivery' 'Recreational Vehicles' 'Trucking'\n",
      " 'Drugs Wholesale' 'Security & Protection Services'\n",
      " 'Internet Service Providers' 'Surety & Title Insurance'\n",
      " 'Auto Manufacturers - Major' 'Semiconductor- Memory Chips'\n",
      " 'Auto Parts Stores' 'Specialty Eateries' 'Auto Parts Wholesale' 'Cement'\n",
      " 'Diversified Utilities' 'Insurance Brokers' 'Major Integrated Oil & Gas'\n",
      " 'Home Improvement Stores' 'Cigarettes' 'Textile Industrial'\n",
      " 'Advertising Agencies' 'Beverages - Brewers' 'Foreign Money Center Banks'\n",
      " 'Air Services' 'Toys & Games' 'Processing Systems & Products'\n",
      " 'Medical Equipment Wholesale' 'Housewares & Accessories'\n",
      " 'Specialized Health Services' 'Aluminum' 'Copper' 'Silver'\n",
      " 'Manufactured Housing']\n"
     ]
    }
   ],
   "source": [
    "print(df.Category.unique())"
   ]
  },
  {
   "cell_type": "code",
   "execution_count": 146,
   "metadata": {},
   "outputs": [],
   "source": [
    "with open('allindustriessource.pkl', 'wb') as f:\n",
    "    pickle.dump(df, f)\n",
    "#df = pd.read_pickle(file_name)"
   ]
  },
  {
   "cell_type": "code",
   "execution_count": 147,
   "metadata": {},
   "outputs": [
    {
     "name": "stdout",
     "output_type": "stream",
     "text": [
      "Biotechnology    996\n",
      "Name: Category, dtype: int64\n"
     ]
    }
   ],
   "source": [
    "\n",
    "df1 = df[(df['Category'] ==\"Biotechnology\")]\n",
    "print(df1['Category'].value_counts())"
   ]
  },
  {
   "cell_type": "code",
   "execution_count": 148,
   "metadata": {},
   "outputs": [
    {
     "data": {
      "text/html": [
       "<div>\n",
       "<style>\n",
       "    .dataframe thead tr:only-child th {\n",
       "        text-align: right;\n",
       "    }\n",
       "\n",
       "    .dataframe thead th {\n",
       "        text-align: left;\n",
       "    }\n",
       "\n",
       "    .dataframe tbody tr th {\n",
       "        vertical-align: top;\n",
       "    }\n",
       "</style>\n",
       "<table border=\"1\" class=\"dataframe\">\n",
       "  <thead>\n",
       "    <tr style=\"text-align: right;\">\n",
       "      <th></th>\n",
       "      <th>ReturnBin_4Weeks</th>\n",
       "      <th>ReturnBin_26Weeks</th>\n",
       "      <th>fulltext</th>\n",
       "    </tr>\n",
       "  </thead>\n",
       "  <tbody>\n",
       "    <tr>\n",
       "      <th>44198</th>\n",
       "      <td>2</td>\n",
       "      <td>0</td>\n",
       "      <td>OGEN.   MANAGEMENTS DISCUSSION AND ANALYSIS O...</td>\n",
       "    </tr>\n",
       "    <tr>\n",
       "      <th>11098</th>\n",
       "      <td>2</td>\n",
       "      <td>0</td>\n",
       "      <td>OGEN.   1</td>\n",
       "    </tr>\n",
       "  </tbody>\n",
       "</table>\n",
       "</div>"
      ],
      "text/plain": [
       "      ReturnBin_4Weeks ReturnBin_26Weeks  \\\n",
       "44198                2                 0   \n",
       "11098                2                 0   \n",
       "\n",
       "                                                fulltext  \n",
       "44198  OGEN.   MANAGEMENTS DISCUSSION AND ANALYSIS O...  \n",
       "11098                                          OGEN.   1  "
      ]
     },
     "execution_count": 148,
     "metadata": {},
     "output_type": "execute_result"
    }
   ],
   "source": [
    "df1=df1.drop(['Category'], axis=1)\n",
    "df1.head(2)"
   ]
  },
  {
   "cell_type": "code",
   "execution_count": 149,
   "metadata": {},
   "outputs": [],
   "source": [
    "with open('biotechsource.pkl', 'wb') as f:\n",
    "    pickle.dump(data3, f)\n",
    "#df = pd.read_pickle(file_name)"
   ]
  }
 ],
 "metadata": {
  "kernelspec": {
   "display_name": "Python 3",
   "language": "python",
   "name": "python3"
  },
  "language_info": {
   "codemirror_mode": {
    "name": "ipython",
    "version": 3
   },
   "file_extension": ".py",
   "mimetype": "text/x-python",
   "name": "python",
   "nbconvert_exporter": "python",
   "pygments_lexer": "ipython3",
   "version": "3.5.2"
  }
 },
 "nbformat": 4,
 "nbformat_minor": 2
}
